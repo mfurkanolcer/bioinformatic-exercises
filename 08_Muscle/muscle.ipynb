{
 "cells": [
  {
   "attachments": {},
   "cell_type": "markdown",
   "id": "bb395985",
   "metadata": {},
   "source": [
    "## Muscle  \n",
    "\n",
    "MUSCLE, amino asit veya nükleotit dizilerinin çoklu hizalamalarını oluşturmak için bir programdır. Size doğruluğu, hızı optimize etme veya ikisi arasında bir miktar uzlaşma seçeneği sunan bir dizi seçenek sağlanmıştır. Varsayılan parametreler, testlerimizde en iyi ortalama doğruluğu verenlerdir. Yazma sırasında güncel sürümleri kullanarak yaptığım testler, MUSCLE'ın seçilen seçeneklere bağlı olarak CLUSTALW veya T-Coffee'den hem daha iyi ortalama doğruluk hem de daha iyi hız elde edebildiğini gösteriyor. Algoritmanın içindekileri değiştirmek için birçok komut satırı seçeneği sağlanmıştır; Bunlardan bazıları, farklı durumlarda algoritmanın hangi özelliklerinin önemli olduğunu daha iyi anlamak isteyen algoritma geliştiricilerinin ilgisini çekecektir."
   ]
  },
  {
   "attachments": {},
   "cell_type": "markdown",
   "id": "6c50e272",
   "metadata": {},
   "source": [
    "### Making an alignment:  \n",
    "Bazı dizileri içeren bir FASTA dosyası oluşturun.Şimdilik, işleri hızlandırmak için, dosyadaki dizi sayısını 50'den fazla olmayacak şekilde sınırlayın."
   ]
  },
  {
   "attachments": {},
   "cell_type": "markdown",
   "id": "c1eb1515",
   "metadata": {},
   "source": [
    "`\n",
    "muscle -in seqs.fa -out seqs.afa\n",
    "`\n",
    "\n",
    "muscle başarı ile tamamlanırsa hizalamayı içeren bir seqs.afa dosyası oluşturur. Bu, dizileri hizalamak için boşlukların eklenmesi dışında normal FASTA gibidir."
   ]
  },
  {
   "attachments": {},
   "cell_type": "markdown",
   "id": "0297c5da",
   "metadata": {},
   "source": [
    "![Alt text](https://i.ibb.co/6yv1zbF/1.png)"
   ]
  },
  {
   "attachments": {},
   "cell_type": "markdown",
   "id": "957634ae",
   "metadata": {},
   "source": [
    "---"
   ]
  },
  {
   "attachments": {},
   "cell_type": "markdown",
   "id": "e3084c52",
   "metadata": {},
   "source": [
    "### Large alignments:  \n",
    "\n",
    "Çok sayıda diziniz varsa (birkaç bin) veya bunlar çok uzunsa, varsayılan ayarları pratik kullanım için çok yavaş olabilir. Hız ve doğruluk arasında iyi bir uzlaşma, algoritmanın yalnızca ilk iki yinelemesini çalıştırmaktır. Ortalama olarak, bu, T-Coffee ile karşılaştırılabilir doğruluk sağlar ve CLUSTALW'den çok daha hızlıdır. Bu, aşağıdaki örnekte olduğu gibi –maxiters 2 seçeneği ile yapılır."
   ]
  },
  {
   "attachments": {},
   "cell_type": "markdown",
   "id": "d53dc0e3",
   "metadata": {},
   "source": [
    "`\n",
    "muscle -in seqs(large_alignment).fa -out seqs(large_alignment).afa -maxiters 2\n",
    "`\n",
    "\n",
    "muscle başarı ile tamamlanırsa hizalamayı içeren bir seqs(large_alignment).afa dosyası oluşturur."
   ]
  },
  {
   "attachments": {},
   "cell_type": "markdown",
   "id": "117de0c8",
   "metadata": {},
   "source": [
    "![Alt text](https://i.ibb.co/pbFkCmB/2.png)"
   ]
  },
  {
   "attachments": {},
   "cell_type": "markdown",
   "id": "3baecb42",
   "metadata": {},
   "source": [
    "---"
   ]
  },
  {
   "attachments": {},
   "cell_type": "markdown",
   "id": "be9309b1",
   "metadata": {},
   "source": [
    "### Faster speed:  \n",
    "\n",
    "–diags seçeneği, köşegenler için tohumlar olarak iki dizi arasında ortak sözcükler (sıkıştırılmış bir amino asit alfabesinde 6-mer) bularak hız için bir optimizasyon sağlar. Bu, BLAST ve FASTA gibi programlardaki optimizasyonlarla ilgilidir: daha yüksek hız elde edersiniz, ancak bazen daha düşük ortalama doğruluk elde edersiniz. Çok sayıda yakın ilişkili dizi için bu seçenek çok iyi çalışır."
   ]
  },
  {
   "attachments": {},
   "cell_type": "markdown",
   "id": "01748084",
   "metadata": {},
   "source": [
    "Mümkün olan en yüksek hızı istiyorsanız, aşağıdaki örnek proteinler için geçerli seçenekleri gösterir.\n",
    "\n",
    "`\n",
    "muscle -in seqs.fa -out seqs.afa -maxiters 1 -diags -sv -distance1 kbit20_3\n",
    "`"
   ]
  },
  {
   "attachments": {},
   "cell_type": "markdown",
   "id": "b586b672",
   "metadata": {},
   "source": [
    "![Alt text](https://i.ibb.co/c8vSDmj/3.png)"
   ]
  },
  {
   "attachments": {},
   "cell_type": "markdown",
   "id": "3a1fef97",
   "metadata": {},
   "source": [
    "\n",
    "Nükleotidler için şunu kullanın:  \n",
    "\n",
    "`\n",
    "muscle -in seqs.fa -out seqs.afa -maxiters 1 -diags\n",
    "`"
   ]
  },
  {
   "attachments": {},
   "cell_type": "markdown",
   "id": "555c56f3",
   "metadata": {},
   "source": [
    "![Alt text](https://i.ibb.co/mNzKszc/4.png)"
   ]
  },
  {
   "attachments": {},
   "cell_type": "markdown",
   "id": "fba448d4",
   "metadata": {},
   "source": [
    "Yazma sırasında, bu seçeneklerle muscle, test ettiğimiz diğer tüm çoklu dizi hizalama programlarından daha hızlıdır."
   ]
  },
  {
   "attachments": {},
   "cell_type": "markdown",
   "id": "6d4dd5e5",
   "metadata": {},
   "source": [
    "---"
   ]
  },
  {
   "attachments": {},
   "cell_type": "markdown",
   "id": "5b6bc9ed",
   "metadata": {},
   "source": [
    "### Huge alignments:  \n",
    "\n",
    "Çok sayıda diziniz varsa (birkaç bin) veya bunlar çok uzunsa, nispeten büyük miktarda belleğe ihtiyaç duyduğu için kbit20_3 seçeneği sorunlara neden olabilir. Kabaca 2× veya 3× daha yavaş olan ancak daha az belleğe ihtiyaç duyan varsayılan mesafe ölçüsünü kullanmak daha iyidir.\n",
    "\n",
    "`\n",
    "muscle -in seqs(large_alignment).fa -out seqs(large_alignment).afa -maxiters 1 -diags\n",
    "`"
   ]
  },
  {
   "attachments": {},
   "cell_type": "markdown",
   "id": "6ab38397",
   "metadata": {},
   "source": [
    "![Alt text](https://i.ibb.co/wRq4K4n/5.png)"
   ]
  },
  {
   "attachments": {},
   "cell_type": "markdown",
   "id": "7a2caaee",
   "metadata": {},
   "source": [
    "---"
   ]
  },
  {
   "attachments": {},
   "cell_type": "markdown",
   "id": "8ffb677d",
   "metadata": {},
   "source": [
    "### Pipelining:  \n",
    "\n",
    "Standart girdiden girdi alınabilir ve standart çıktıya çıktı yazılabilir. Bu varsayılandır, dolayısıyla ilk örneğimiz de şu şekilde çalışır:\n",
    "\n",
    "`\n",
    "muscle < seqs.fa > seqs.afa\n",
    "`"
   ]
  },
  {
   "attachments": {},
   "cell_type": "markdown",
   "id": "03ba5ff5",
   "metadata": {},
   "source": [
    "![Alt text](https://i.ibb.co/hRmp6ZN/6.png)"
   ]
  },
  {
   "attachments": {},
   "cell_type": "markdown",
   "id": "e5add7c8",
   "metadata": {},
   "source": [
    "---"
   ]
  },
  {
   "attachments": {},
   "cell_type": "markdown",
   "id": "df625b17",
   "metadata": {},
   "source": [
    "### Refining an existing alignment:  \n",
    "\n",
    "–refine seçeneğini kullanarak muscle dan mevcut bir hizalamayı iyileştirmeye çalışmasını isteyebilirsiniz. Girdi dosyası daha sonra bir hizalama içeren bir FASTA dosyası olmalıdır. Tüm diziler eşit uzunlukta olmalıdır, boşluklar \".\" noktaları kullanılarak belirtilebilir. veya kısa çizgiler \"–\". Örneğin:\n",
    "\n",
    "`\n",
    "muscle -in seqs.afa -out refined.afa -refine\n",
    "`"
   ]
  },
  {
   "attachments": {},
   "cell_type": "markdown",
   "id": "28914a10",
   "metadata": {},
   "source": [
    "![Alt text](https://i.ibb.co/JycsnGp/7.png)"
   ]
  },
  {
   "attachments": {},
   "cell_type": "markdown",
   "id": "1457777b",
   "metadata": {},
   "source": [
    "---"
   ]
  },
  {
   "attachments": {},
   "cell_type": "markdown",
   "id": "a6079be3",
   "metadata": {},
   "source": [
    "### Using a pre-computed guide tree:  \n",
    "\n",
    "–usetree seçeneği, kendi kılavuz ağacınızı sağlamanıza izin verir. Örneğin:\n",
    "\n",
    "`\n",
    "muscle -in seqs.fa -out seqs.afa -usetree_nowarn mytree.phy\n",
    "`"
   ]
  },
  {
   "attachments": {},
   "cell_type": "markdown",
   "id": "69c60cdd",
   "metadata": {},
   "source": [
    "---"
   ]
  },
  {
   "attachments": {},
   "cell_type": "markdown",
   "id": "c3725c8c",
   "metadata": {},
   "source": [
    "### Profile-profile alignment:  \n",
    "\n",
    "MUSCLE algoritmasındaki temel bir adım, iki çoklu dizi hizalamasını hizalamaktır. Bu işleme bazen \"profil-profil hizalaması\" adı verilir. İlgili dizilerin mevcut iki hizalamasına sahipseniz, bu iki diziyi hizalamak için MUSCLE'ın –profile seçeneğini kullanabilirsiniz.\n",
    "\n",
    "`\n",
    "muscle -profile -in1 one.afa -in2 two.afa -out both.afa\n",
    "`"
   ]
  },
  {
   "attachments": {},
   "cell_type": "markdown",
   "id": "f46548bd",
   "metadata": {},
   "source": [
    "![Alt text](https://i.ibb.co/nBQPX9J/9.png)"
   ]
  },
  {
   "attachments": {},
   "cell_type": "markdown",
   "id": "ab468d23",
   "metadata": {},
   "source": [
    "---"
   ]
  },
  {
   "attachments": {},
   "cell_type": "markdown",
   "id": "af780771",
   "metadata": {},
   "source": [
    "### Adding sequences to an existing alignment:  \n",
    "\n",
    "Bozulmadan tutmak istediğiniz mevcut bir hizalamaya bir dizi eklemek için profil olarak yeni diziyle profil-profil hizalamasını kullanın. Örneğin, mevcut bir \"existing_aln.afa\" hizalamanız varsa ve \"new_seq.fa\" da yeni bir sıra eklemek istiyorsanız, aşağıdaki komutları kullanın:\n",
    "\n",
    "`\n",
    "muscle -profile -in1 existing_aln.afa -in2 new_seq.fa -out combined.afa\n",
    "`"
   ]
  },
  {
   "attachments": {},
   "cell_type": "markdown",
   "id": "6c00e860",
   "metadata": {},
   "source": [
    "![Alt text](https://i.ibb.co/Rz86ZyF/10.png)"
   ]
  },
  {
   "attachments": {},
   "cell_type": "markdown",
   "id": "957a3854",
   "metadata": {},
   "source": [
    "Birden fazla yeni diziniz varsa önce bunları hizalayabilir, ardından ekleyebilirsiniz, örneğin:\n",
    "\n",
    "`\n",
    "muscle -in new_seqs.fa -out new_seqs.afa  \n",
    "`\n"
   ]
  },
  {
   "attachments": {},
   "cell_type": "markdown",
   "id": "9b15bcba",
   "metadata": {},
   "source": [
    "`\n",
    "muscle -profile -in1 existing_aln.afa -in2 new_seqs.fa -out combined.afas\n",
    "`"
   ]
  },
  {
   "attachments": {},
   "cell_type": "markdown",
   "id": "1704c173",
   "metadata": {},
   "source": [
    "---"
   ]
  },
  {
   "attachments": {},
   "cell_type": "markdown",
   "id": "f705ffe4",
   "metadata": {},
   "source": [
    "### Sequence clustering:  \n",
    "\n",
    "MUSCLE'daki ilk aşama, hızlı bir kümeleme algoritmasıdır. Bu, diğer uygulamalarda kullanılabilir.\n",
    "\n",
    "`\n",
    "muscle -cluster -in seqs.fa -tree1 tree.phy -maxiters 1\n",
    "`  \n",
    "\n",
    "Diziler kümelenecek ve tree.phy'ye bir ağaç yazılacaktır. İstenirse –weight1, –distance1, –cluster1 ve –root1 seçenekleri uygulanabilir."
   ]
  },
  {
   "attachments": {},
   "cell_type": "markdown",
   "id": "54242ba2",
   "metadata": {},
   "source": [
    "---"
   ]
  },
  {
   "attachments": {},
   "cell_type": "markdown",
   "id": "922b009a",
   "metadata": {},
   "source": [
    "### Specifying a substitution matrix:  \n",
    "\n",
    "-matrix seçeneğini kullanarak kendi ikame matrisinizi belirleyebilirsiniz. Bu, NCBI veya WU-BLAST formatında bir protein ikame matrisini okur. Alfabenin amino asit olduğu varsayılır ve çiftlerin toplamı puanlaması kullanılır. -gapopen, -gapextend ve -center parametreleri belirtilmelidir; normalde merkez için bir sıfır değeri belirleyeceksiniz. Boşluk cezalarının negatif olması GEREKİR. MUSCLE_MXPATH ortam değişkeni, matrislerin depolandığı bir yolu belirtmek için kullanılabilir.\n",
    "\n",
    "`\n",
    "muscle -in seqs.fa -out seqs(substitution_matrix).afa -matrix blosum62 -gapopen -12.0 -gapextend -1.0 -center 0.0\n",
    "`  "
   ]
  },
  {
   "attachments": {},
   "cell_type": "markdown",
   "id": "8844d240",
   "metadata": {},
   "source": [
    "![Alt text](https://i.ibb.co/pbdZwqY/12.png)"
   ]
  },
  {
   "attachments": {},
   "cell_type": "markdown",
   "id": "965b8f6d",
   "metadata": {},
   "source": [
    "---"
   ]
  },
  {
   "attachments": {},
   "cell_type": "markdown",
   "id": "d2c55d46",
   "metadata": {},
   "source": [
    "### Refining a long alignment:  \n",
    "\n",
    "Uzun bir hizalama, öncelikle tüm genom nükleotit hizalamalarını iyileştirmek için tasarlanmış olan –refinew seçeneği kullanılarak rafine edilebilir.\n",
    "\n",
    "`\n",
    "muscle -in input.afa -out output.afa\n",
    "`  \n",
    "\n",
    "MUSCLE, giriş hizalamasını örtüşmeyen pencerelere ayırır ve her pencereyi sıfırdan yeniden hizalar, yani tüm boşluk karakterleri atılır. –refinewindow seçeneği, varsayılan olarak 200 sütun olan pencere uzunluğunu değiştirmek için kullanılabilir."
   ]
  },
  {
   "attachments": {},
   "cell_type": "markdown",
   "id": "6a15f4b1",
   "metadata": {},
   "source": [
    "![Alt text](https://i.ibb.co/svvQF1d/13.png)"
   ]
  }
 ],
 "metadata": {
  "kernelspec": {
   "display_name": "Python 3",
   "language": "python",
   "name": "python3"
  },
  "language_info": {
   "codemirror_mode": {
    "name": "ipython",
    "version": 3
   },
   "file_extension": ".py",
   "mimetype": "text/x-python",
   "name": "python",
   "nbconvert_exporter": "python",
   "pygments_lexer": "ipython3",
   "version": "3.6.5"
  }
 },
 "nbformat": 4,
 "nbformat_minor": 5
}
