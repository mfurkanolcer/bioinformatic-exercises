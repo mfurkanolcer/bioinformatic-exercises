{
 "cells": [
  {
   "attachments": {},
   "cell_type": "markdown",
   "metadata": {},
   "source": [
    "# Bio.Align"
   ]
  },
  {
   "attachments": {},
   "cell_type": "markdown",
   "metadata": {},
   "source": [
    "```\n",
    "classBio.Align.MultipleSeqAlignment(records, alphabet=None, annotations=None, column_annotations=None)\n",
    "```"
   ]
  },
  {
   "attachments": {},
   "cell_type": "markdown",
   "metadata": {},
   "source": [
    "Klasik bir çoklu dizi hizalamasını (multiple sewuence alignment) temsil eder.\n",
    "\n",
    "Bununla, tümü aynı uzunlukta olan (genellikle eklemeler veya doldurma için boşluk karakterleri olan) bir diziler koleksiyonunu (genellikle satırlar olarak gösterilir) kastediyoruz. Veriler daha sonra iyi tanımlanmış sütunlara sahip bir harf matrisi olarak kabul edilebilir.\n",
    "\n",
    "AlignIO modülüyle bir hizalama dosyası yükleyerek genellikle bir MSA oluşturursunuz:"
   ]
  },
  {
   "cell_type": "code",
   "execution_count": null,
   "metadata": {},
   "outputs": [
    {
     "name": "stdout",
     "output_type": "stream",
     "text": [
      "SingleLetterAlphabet() alignment with 7 rows and 156 columns\n",
      "TATACATTAAAGAAGGGGGATGCGGATAAATGGAAAGGCGAAAG...AGA gi|6273285|gb|AF191659.1|AF191\n",
      "TATACATTAAAGAAGGGGGATGCGGATAAATGGAAAGGCGAAAG...AGA gi|6273284|gb|AF191658.1|AF191\n",
      "TATACATTAAAGAAGGGGGATGCGGATAAATGGAAAGGCGAAAG...AGA gi|6273287|gb|AF191661.1|AF191\n",
      "TATACATAAAAGAAGGGGGATGCGGATAAATGGAAAGGCGAAAG...AGA gi|6273286|gb|AF191660.1|AF191\n",
      "TATACATTAAAGGAGGGGGATGCGGATAAATGGAAAGGCGAAAG...AGA gi|6273290|gb|AF191664.1|AF191\n",
      "TATACATTAAAGGAGGGGGATGCGGATAAATGGAAAGGCGAAAG...AGA gi|6273289|gb|AF191663.1|AF191\n",
      "TATACATTAAAGGAGGGGGATGCGGATAAATGGAAAGGCGAAAG...AGA gi|6273291|gb|AF191665.1|AF191\n"
     ]
    }
   ],
   "source": [
    "from Bio import AlignIO\n",
    "align = AlignIO.read(\"Clustalw/opuntia.aln\", \"clustal\")\n",
    "print(align)"
   ]
  },
  {
   "cell_type": "code",
   "execution_count": 4,
   "metadata": {},
   "outputs": [
    {
     "data": {
      "text/plain": [
       "7"
      ]
     },
     "execution_count": 4,
     "metadata": {},
     "output_type": "execute_result"
    }
   ],
   "source": [
    "from Bio import AlignIO\n",
    "align = AlignIO.read(\"Clustalw/opuntia.aln\", \"clustal\")\n",
    "len(align)"
   ]
  },
  {
   "cell_type": "code",
   "execution_count": 5,
   "metadata": {},
   "outputs": [
    {
     "name": "stdout",
     "output_type": "stream",
     "text": [
      "gi|6273285|gb|AF191659.1|AF191 156\n",
      "gi|6273284|gb|AF191658.1|AF191 156\n",
      "gi|6273287|gb|AF191661.1|AF191 156\n",
      "gi|6273286|gb|AF191660.1|AF191 156\n",
      "gi|6273290|gb|AF191664.1|AF191 156\n",
      "gi|6273289|gb|AF191663.1|AF191 156\n",
      "gi|6273291|gb|AF191665.1|AF191 156\n"
     ]
    }
   ],
   "source": [
    "from Bio import AlignIO\n",
    "align = AlignIO.read(\"Clustalw/opuntia.aln\", \"clustal\")\n",
    "for record in align:\n",
    "    print(\"%s %i\" % (record.id, len(record)))"
   ]
  },
  {
   "cell_type": "code",
   "execution_count": 13,
   "metadata": {},
   "outputs": [
    {
     "name": "stdout",
     "output_type": "stream",
     "text": [
      "gi|6273285|gb|AF191659.1|AF191\n",
      "---------------\n",
      "gi|6273291|gb|AF191665.1|AF191\n",
      "---------------\n",
      "AAAAAAA\n",
      "---------------\n",
      "SingleLetterAlphabet() alignment with 7 rows and 10 columns\n",
      "TATACATTAA gi|6273285|gb|AF191659.1|AF191\n",
      "TATACATTAA gi|6273284|gb|AF191658.1|AF191\n",
      "TATACATTAA gi|6273287|gb|AF191661.1|AF191\n",
      "TATACATAAA gi|6273286|gb|AF191660.1|AF191\n",
      "TATACATTAA gi|6273290|gb|AF191664.1|AF191\n",
      "TATACATTAA gi|6273289|gb|AF191663.1|AF191\n",
      "TATACATTAA gi|6273291|gb|AF191665.1|AF191\n",
      "---------------\n",
      "SingleLetterAlphabet() alignment with 7 rows and 20 columns\n",
      "TATACATTAAGTGTACCAGA gi|6273285|gb|AF191659.1|AF191\n",
      "TATACATTAAGTGTACCAGA gi|6273284|gb|AF191658.1|AF191\n",
      "TATACATTAAGTGTACCAGA gi|6273287|gb|AF191661.1|AF191\n",
      "TATACATAAAGTGTACCAGA gi|6273286|gb|AF191660.1|AF191\n",
      "TATACATTAAGTGTACCAGA gi|6273290|gb|AF191664.1|AF191\n",
      "TATACATTAAGTATACCAGA gi|6273289|gb|AF191663.1|AF191\n",
      "TATACATTAAGTGTACCAGA gi|6273291|gb|AF191665.1|AF191\n"
     ]
    }
   ],
   "source": [
    "from Bio import AlignIO\n",
    "align = AlignIO.read(\"Clustalw/opuntia.aln\", \"clustal\")\n",
    "print(align[0].id)\n",
    "print('---------------')\n",
    "print(align[-1].id)\n",
    "print('---------------')\n",
    "print(align[:, 1])\n",
    "print('---------------')\n",
    "print(align[:, :10])\n",
    "print('---------------')\n",
    "print(align[:, :10] + align[:, -10:])"
   ]
  },
  {
   "attachments": {},
   "cell_type": "markdown",
   "metadata": {},
   "source": [
    "---"
   ]
  },
  {
   "attachments": {},
   "cell_type": "markdown",
   "metadata": {},
   "source": [
    "Normalde Bio.AlignIO kullanarak bir dosyadan bir MSA yüklersiniz, ancak bunu bir SeqRecord nesneleri listesinden de yapabilirsiniz:"
   ]
  },
  {
   "cell_type": "code",
   "execution_count": 19,
   "metadata": {},
   "outputs": [
    {
     "name": "stdout",
     "output_type": "stream",
     "text": [
      "DNAAlphabet() alignment with 3 rows and 7 columns\n",
      "AAAACGT Alpha\n",
      "AAA-CGT Beta\n",
      "AAAAGGT Gamma\n"
     ]
    },
    {
     "data": {
      "text/plain": [
       "{'tool': 'demo'}"
      ]
     },
     "execution_count": 19,
     "metadata": {},
     "output_type": "execute_result"
    }
   ],
   "source": [
    "from Bio.Alphabet import generic_dna\n",
    "from Bio.Seq import Seq\n",
    "from Bio.SeqRecord import SeqRecord\n",
    "from Bio.Align import MultipleSeqAlignment\n",
    "a = SeqRecord(Seq(\"AAAACGT\", generic_dna), id=\"Alpha\")\n",
    "b = SeqRecord(Seq(\"AAA-CGT\", generic_dna), id=\"Beta\")\n",
    "c = SeqRecord(Seq(\"AAAAGGT\", generic_dna), id=\"Gamma\")\n",
    "align = MultipleSeqAlignment([a, b, c],\n",
    "                             annotations={\"tool\": \"demo\"},\n",
    "                             column_annotations={\"stats\": \"CCCXCCC\"})\n",
    "print(align)\n",
    "align.annotations\n"
   ]
  },
  {
   "cell_type": "code",
   "execution_count": 20,
   "metadata": {},
   "outputs": [
    {
     "name": "stdout",
     "output_type": "stream",
     "text": [
      "Gapped(IUPACUnambiguousDNA(), '-') alignment with 3 rows and 12 columns\n",
      "ACTGCTAGCTAG Alpha\n",
      "ACT-CTAGCTAG Beta\n",
      "ACTGCTAGATAG Gamma\n"
     ]
    }
   ],
   "source": [
    "from Bio.Alphabet import IUPAC, Gapped\n",
    "from Bio.Align import MultipleSeqAlignment\n",
    "align = MultipleSeqAlignment([], Gapped(IUPAC.unambiguous_dna, \"-\"))\n",
    "align.add_sequence(\"Alpha\", \"ACTGCTAGCTAG\")\n",
    "align.add_sequence(\"Beta\",  \"ACT-CTAGCTAG\")\n",
    "align.add_sequence(\"Gamma\", \"ACTGCTAGATAG\")\n",
    "print(align)"
   ]
  },
  {
   "attachments": {},
   "cell_type": "markdown",
   "metadata": {},
   "source": [
    "---"
   ]
  },
  {
   "attachments": {},
   "cell_type": "markdown",
   "metadata": {},
   "source": [
    "format(self, format): Hizalamayı, belirtilen dosya biçiminde bir dize olarak döndürün.  \n",
    "\n",
    "\n",
    "Format, hizalamayı bir diziye dönüştürmek için kullanılan Bio.AlignIO tarafından bir çıktı formatı olarak desteklenen (\"fasta\", \"clustal\", \"phylip\", \"stockholm\", vb.) küçük harfli bir dize olmalıdır."
   ]
  },
  {
   "cell_type": "code",
   "execution_count": 26,
   "metadata": {},
   "outputs": [
    {
     "name": "stdout",
     "output_type": "stream",
     "text": [
      ">Alpha\n",
      "ACTGCTAGCTAG\n",
      ">Beta\n",
      "ACT-CTAGCTAG\n",
      ">Gamma\n",
      "ACTGCTAGATAG\n",
      "\n",
      "---------------\n",
      " 3 12\n",
      "Alpha      ACTGCTAGCT AG\n",
      "Beta       ACT-CTAGCT AG\n",
      "Gamma      ACTGCTAGAT AG\n",
      "\n"
     ]
    }
   ],
   "source": [
    "from Bio.Alphabet import IUPAC, Gapped\n",
    "from Bio.Align import MultipleSeqAlignment\n",
    "align = MultipleSeqAlignment([], Gapped(IUPAC.unambiguous_dna, \"-\"))\n",
    "align.add_sequence(\"Alpha\", \"ACTGCTAGCTAG\")\n",
    "align.add_sequence(\"Beta\",  \"ACT-CTAGCTAG\")\n",
    "align.add_sequence(\"Gamma\", \"ACTGCTAGATAG\")\n",
    "print(align.format(\"fasta\"))\n",
    "print('---------------')\n",
    "print(align.format(\"phylip\"))"
   ]
  },
  {
   "attachments": {},
   "cell_type": "markdown",
   "metadata": {},
   "source": [
    "---"
   ]
  },
  {
   "attachments": {},
   "cell_type": "markdown",
   "metadata": {},
   "source": [
    "__iter__(self): Hizalama satırları üzerinde SeqRecord nesneleri olarak yineleyin.  \n"
   ]
  },
  {
   "cell_type": "code",
   "execution_count": 27,
   "metadata": {},
   "outputs": [
    {
     "name": "stdout",
     "output_type": "stream",
     "text": [
      "Alpha\n",
      "ACTGCTAGCTAG\n",
      "Beta\n",
      "ACT-CTAGCTAG\n",
      "Gamma\n",
      "ACTGCTAGATAG\n"
     ]
    }
   ],
   "source": [
    "from Bio.Alphabet import IUPAC, Gapped\n",
    "from Bio.Align import MultipleSeqAlignment\n",
    "align = MultipleSeqAlignment([], Gapped(IUPAC.unambiguous_dna, \"-\"))\n",
    "align.add_sequence(\"Alpha\", \"ACTGCTAGCTAG\")\n",
    "align.add_sequence(\"Beta\",  \"ACT-CTAGCTAG\")\n",
    "align.add_sequence(\"Gamma\", \"ACTGCTAGATAG\")\n",
    "for record in align:\n",
    "   print(record.id)\n",
    "   print(record.seq)"
   ]
  },
  {
   "attachments": {},
   "cell_type": "markdown",
   "metadata": {},
   "source": [
    "---"
   ]
  },
  {
   "attachments": {},
   "cell_type": "markdown",
   "metadata": {},
   "source": [
    "get_alignment_length(self): Hizalamanın maksimum uzunluğunu döndürür.  \n",
    "\n",
    "Hizalamadaki tüm nesneler aynı uzunluğa sahip olmalıdır. Bu işlev, hizalamadaki dizilerin maksimum uzunluğunu bularak bu uzunluğu bulacak ve bulacaktır."
   ]
  },
  {
   "cell_type": "code",
   "execution_count": 30,
   "metadata": {},
   "outputs": [
    {
     "data": {
      "text/plain": [
       "12"
      ]
     },
     "execution_count": 30,
     "metadata": {},
     "output_type": "execute_result"
    }
   ],
   "source": [
    "from Bio.Alphabet import IUPAC, Gapped\n",
    "from Bio.Align import MultipleSeqAlignment\n",
    "align = MultipleSeqAlignment([], Gapped(IUPAC.unambiguous_dna, \"-\"))\n",
    "align.add_sequence(\"Alpha\", \"ACTGCTAGCTAG\")\n",
    "align.add_sequence(\"Beta\",  \"ACT-CTAGCTAG\")\n",
    "align.add_sequence(\"Gamma\", \"ACTGCTAGATAG\")\n",
    "align.get_alignment_length()"
   ]
  },
  {
   "attachments": {},
   "cell_type": "markdown",
   "metadata": {},
   "source": [
    "---"
   ]
  },
  {
   "attachments": {},
   "cell_type": "markdown",
   "metadata": {},
   "source": [
    "extend(self, records): Hizalamaya satırlar halinde daha fazla SeqRecord nesnesi ekleyin.  \n",
    "\n",
    "Hepsinin orijinal hizalama ile aynı uzunluğa sahip olması ve hizalamanın alfabesiyle uyumlu alfabelere sahip olması gerekir."
   ]
  },
  {
   "cell_type": "code",
   "execution_count": 32,
   "metadata": {},
   "outputs": [
    {
     "name": "stdout",
     "output_type": "stream",
     "text": [
      "DNAAlphabet() alignment with 3 rows and 7 columns\n",
      "AAAACGT Alpha\n",
      "AAA-CGT Beta\n",
      "AAAAGGT Gamma\n"
     ]
    }
   ],
   "source": [
    "from Bio.Alphabet import generic_dna\n",
    "from Bio.Seq import Seq\n",
    "from Bio.SeqRecord import SeqRecord\n",
    "from Bio.Align import MultipleSeqAlignment\n",
    "\n",
    "a = SeqRecord(Seq(\"AAAACGT\", generic_dna), id=\"Alpha\")\n",
    "b = SeqRecord(Seq(\"AAA-CGT\", generic_dna), id=\"Beta\")\n",
    "c = SeqRecord(Seq(\"AAAAGGT\", generic_dna), id=\"Gamma\")\n",
    "d = SeqRecord(Seq(\"AAAACGT\", generic_dna), id=\"Delta\")\n",
    "e = SeqRecord(Seq(\"AAA-GGT\", generic_dna), id=\"Epsilon\")\n",
    "\n",
    "align = MultipleSeqAlignment([a, b, c])\n",
    "print(align)"
   ]
  },
  {
   "cell_type": "code",
   "execution_count": 33,
   "metadata": {},
   "outputs": [
    {
     "name": "stdout",
     "output_type": "stream",
     "text": [
      "DNAAlphabet() alignment with 5 rows and 7 columns\n",
      "AAAACGT Alpha\n",
      "AAA-CGT Beta\n",
      "AAAAGGT Gamma\n",
      "AAAACGT Delta\n",
      "AAA-GGT Epsilon\n"
     ]
    }
   ],
   "source": [
    "align.extend([d, e])\n",
    "print(align)"
   ]
  },
  {
   "attachments": {},
   "cell_type": "markdown",
   "metadata": {},
   "source": [
    "---"
   ]
  },
  {
   "attachments": {},
   "cell_type": "markdown",
   "metadata": {},
   "source": [
    "append(self, record): Hizalamaya yeni bir satır olarak bir SeqRecord nesnesi daha ekleyin.  \n",
    "\n",
    "Bu, orijinal hizalama ile aynı uzunlukta olmalıdır (bu ilk kayıt değilse) ve hizalamanın alfabesiyle uyumlu bir alfabeye sahip olmalıdır."
   ]
  },
  {
   "cell_type": "code",
   "execution_count": 34,
   "metadata": {},
   "outputs": [
    {
     "name": "stdout",
     "output_type": "stream",
     "text": [
      "SingleLetterAlphabet() alignment with 7 rows and 156 columns\n",
      "TATACATTAAAGAAGGGGGATGCGGATAAATGGAAAGGCGAAAG...AGA gi|6273285|gb|AF191659.1|AF191\n",
      "TATACATTAAAGAAGGGGGATGCGGATAAATGGAAAGGCGAAAG...AGA gi|6273284|gb|AF191658.1|AF191\n",
      "TATACATTAAAGAAGGGGGATGCGGATAAATGGAAAGGCGAAAG...AGA gi|6273287|gb|AF191661.1|AF191\n",
      "TATACATAAAAGAAGGGGGATGCGGATAAATGGAAAGGCGAAAG...AGA gi|6273286|gb|AF191660.1|AF191\n",
      "TATACATTAAAGGAGGGGGATGCGGATAAATGGAAAGGCGAAAG...AGA gi|6273290|gb|AF191664.1|AF191\n",
      "TATACATTAAAGGAGGGGGATGCGGATAAATGGAAAGGCGAAAG...AGA gi|6273289|gb|AF191663.1|AF191\n",
      "TATACATTAAAGGAGGGGGATGCGGATAAATGGAAAGGCGAAAG...AGA gi|6273291|gb|AF191665.1|AF191\n"
     ]
    }
   ],
   "source": [
    "from Bio import AlignIO\n",
    "align = AlignIO.read(\"Clustalw/opuntia.aln\", \"clustal\")\n",
    "print(align)"
   ]
  },
  {
   "cell_type": "code",
   "execution_count": 36,
   "metadata": {},
   "outputs": [
    {
     "name": "stdout",
     "output_type": "stream",
     "text": [
      "SingleLetterAlphabet() alignment with 8 rows and 156 columns\n",
      "TATACATTAAAGAAGGGGGATGCGGATAAATGGAAAGGCGAAAG...AGA gi|6273285|gb|AF191659.1|AF191\n",
      "TATACATTAAAGAAGGGGGATGCGGATAAATGGAAAGGCGAAAG...AGA gi|6273284|gb|AF191658.1|AF191\n",
      "TATACATTAAAGAAGGGGGATGCGGATAAATGGAAAGGCGAAAG...AGA gi|6273287|gb|AF191661.1|AF191\n",
      "TATACATAAAAGAAGGGGGATGCGGATAAATGGAAAGGCGAAAG...AGA gi|6273286|gb|AF191660.1|AF191\n",
      "TATACATTAAAGGAGGGGGATGCGGATAAATGGAAAGGCGAAAG...AGA gi|6273290|gb|AF191664.1|AF191\n",
      "TATACATTAAAGGAGGGGGATGCGGATAAATGGAAAGGCGAAAG...AGA gi|6273289|gb|AF191663.1|AF191\n",
      "TATACATTAAAGGAGGGGGATGCGGATAAATGGAAAGGCGAAAG...AGA gi|6273291|gb|AF191665.1|AF191\n",
      "NNNNNNNNNNNNNNNNNNNNNNNNNNNNNNNNNNNNNNNNNNNN...NNN dummy\n"
     ]
    }
   ],
   "source": [
    "from Bio.Seq import Seq\n",
    "from Bio.SeqRecord import SeqRecord\n",
    "dummy = SeqRecord(Seq(\"N\"*156), id=\"dummy\")\n",
    "\n",
    "align.append(dummy)\n",
    "print(align)"
   ]
  },
  {
   "attachments": {},
   "cell_type": "markdown",
   "metadata": {},
   "source": [
    "---"
   ]
  },
  {
   "attachments": {},
   "cell_type": "markdown",
   "metadata": {},
   "source": [
    "__add__(self, other): Aynı sayıda satıra sahip iki hizalamayı ekleyerek birleştirin.  \n",
    "\n",
    "İki çoklu dizi hizalamanız (MSA) varsa, bunları eklemeyi düşünmenin iki yolu vardır - satıra veya sütuna göre. Extend yöntemini kullanmak satıra göre ekler. Toplama operatörünü kullanmak, sütuna göre ekler. Örneğin,"
   ]
  },
  {
   "cell_type": "code",
   "execution_count": 41,
   "metadata": {},
   "outputs": [
    {
     "name": "stdout",
     "output_type": "stream",
     "text": [
      "DNAAlphabet() alignment with 3 rows and 5 columns\n",
      "AAAAC Alpha\n",
      "AAA-C Beta\n",
      "AAAAG Gamma\n",
      "---------------\n",
      "DNAAlphabet() alignment with 3 rows and 2 columns\n",
      "GT Alpha\n",
      "GT Beta\n",
      "GT Gamma\n",
      "---------------\n",
      "DNAAlphabet() alignment with 3 rows and 7 columns\n",
      "AAAACGT Alpha\n",
      "AAA-CGT Beta\n",
      "AAAAGGT Gamma\n"
     ]
    }
   ],
   "source": [
    "from Bio.Alphabet import generic_dna\n",
    "from Bio.Seq import Seq\n",
    "from Bio.SeqRecord import SeqRecord\n",
    "from Bio.Align import MultipleSeqAlignment\n",
    "a1 = SeqRecord(Seq(\"AAAAC\", generic_dna), id=\"Alpha\")\n",
    "b1 = SeqRecord(Seq(\"AAA-C\", generic_dna), id=\"Beta\")\n",
    "c1 = SeqRecord(Seq(\"AAAAG\", generic_dna), id=\"Gamma\")\n",
    "a2 = SeqRecord(Seq(\"GT\", generic_dna), id=\"Alpha\")\n",
    "b2 = SeqRecord(Seq(\"GT\", generic_dna), id=\"Beta\")\n",
    "c2 = SeqRecord(Seq(\"GT\", generic_dna), id=\"Gamma\")\n",
    "left = MultipleSeqAlignment([a1, b1, c1],\n",
    "                            annotations={\"tool\": \"demo\", \"name\": \"start\"},\n",
    "                            column_annotations={\"stats\": \"CCCXC\"})\n",
    "right = MultipleSeqAlignment([a2, b2, c2],\n",
    "                            annotations={\"tool\": \"demo\", \"name\": \"end\"},\n",
    "                            column_annotations={\"stats\": \"CC\"})\n",
    "\n",
    "print(left)\n",
    "print('---------------')\n",
    "print(right)\n",
    "\n",
    "combined = left + right\n",
    "print('---------------')\n",
    "print(combined)\n",
    "\n"
   ]
  },
  {
   "cell_type": "code",
   "execution_count": 42,
   "metadata": {},
   "outputs": [
    {
     "data": {
      "text/plain": [
       "{'tool': 'demo'}"
      ]
     },
     "execution_count": 42,
     "metadata": {},
     "output_type": "execute_result"
    }
   ],
   "source": [
    "combined.annotations"
   ]
  },
  {
   "cell_type": "code",
   "execution_count": 43,
   "metadata": {},
   "outputs": [
    {
     "data": {
      "text/plain": [
       "{'stats': 'CCCXCCC'}"
      ]
     },
     "execution_count": 43,
     "metadata": {},
     "output_type": "execute_result"
    }
   ],
   "source": [
    "combined.column_annotations"
   ]
  },
  {
   "attachments": {},
   "cell_type": "markdown",
   "metadata": {},
   "source": [
    "---"
   ]
  },
  {
   "attachments": {},
   "cell_type": "markdown",
   "metadata": {},
   "source": [
    "__getitem__(self, index): Hizalamanın bir kısmına erişmek.  \n",
    "\n",
    "Dizinlere bağlı olarak, bir SeqRecord nesnesi (tek bir satırı temsil eder), bir Seq nesnesi (tek bir sütun için), bir dize (tek bir karakter için) veya başka bir hizalama (hizanın bir kısmını veya tamamını temsil eder) alabilirsiniz.  \n",
    "\n",
    "align[r,c], string olarak tek bir karakter verir align[r], SeqRecord olarak bir satır verir. (hizalamanın alfabesi)  \n",
    "\n",
    "align[:] ve align[:,:] hizalamanın bir kopyasını verir.  \n",
    "\n",
    "Başka herhangi bir şey bir alt hizalama sağlar, örn. align[0:2] veya align[0:2,:] yalnızca 0 ve 1. satırları kullanır align[:,1:3] yalnızca 1 ve 2. sütunları kullanır align[0:2,1:3] yalnızca 0 ve 1. satırları kullanır 1 ve yalnızca sütun 1 ve 2\n",
    "\n"
   ]
  },
  {
   "cell_type": "code",
   "execution_count": 55,
   "metadata": {},
   "outputs": [
    {
     "name": "stdout",
     "output_type": "stream",
     "text": [
      "Alpha AAAACGT\n",
      "\n",
      "Epsilon AAA-GGT\n",
      "\n",
      "DNAAlphabet() alignment with 3 rows and 7 columns\n",
      "AAAAGGT Gamma\n",
      "AAAACGT Delta\n",
      "AAA-GGT Epsilon\n",
      "\n",
      "DNAAlphabet() alignment with 3 rows and 7 columns\n",
      "AAAACGT Alpha\n",
      "AAAAGGT Gamma\n",
      "AAA-GGT Epsilon\n",
      "\n",
      "DNAAlphabet() alignment with 5 rows and 7 columns\n",
      "AAA-GGT Epsilon\n",
      "AAAACGT Delta\n",
      "AAAAGGT Gamma\n",
      "AAA-CGT Beta\n",
      "AAAACGT Alpha\n"
     ]
    }
   ],
   "source": [
    "from Bio.Alphabet import generic_dna\n",
    "from Bio.Seq import Seq\n",
    "from Bio.SeqRecord import SeqRecord\n",
    "from Bio.Align import MultipleSeqAlignment\n",
    "a = SeqRecord(Seq(\"AAAACGT\", generic_dna), id=\"Alpha\")\n",
    "b = SeqRecord(Seq(\"AAA-CGT\", generic_dna), id=\"Beta\")\n",
    "c = SeqRecord(Seq(\"AAAAGGT\", generic_dna), id=\"Gamma\")\n",
    "d = SeqRecord(Seq(\"AAAACGT\", generic_dna), id=\"Delta\")\n",
    "e = SeqRecord(Seq(\"AAA-GGT\", generic_dna), id=\"Epsilon\")\n",
    "align = MultipleSeqAlignment([a, b, c, d, e], generic_dna)\n",
    "\n",
    "first_record = align[0]\n",
    "print(\"%s %s\" % (first_record.id, first_record.seq))\n",
    "\n",
    "print('')\n",
    "\n",
    "last_record = align[-1]\n",
    "print(\"%s %s\" % (last_record.id, last_record.seq))\n",
    "\n",
    "print('')\n",
    "\n",
    "sub_alignment = align[2:5]\n",
    "print(sub_alignment)\n",
    "\n",
    "print('')\n",
    "\n",
    "sub_alignment = align[::2]\n",
    "print(sub_alignment)\n",
    "\n",
    "print('')\n",
    "\n",
    "rev_alignment = align[::-1]\n",
    "print(rev_alignment)\n"
   ]
  },
  {
   "cell_type": "code",
   "execution_count": 56,
   "metadata": {},
   "outputs": [
    {
     "data": {
      "text/plain": [
       "'C'"
      ]
     },
     "execution_count": 56,
     "metadata": {},
     "output_type": "execute_result"
    }
   ],
   "source": [
    "align[3, 4]"
   ]
  },
  {
   "cell_type": "code",
   "execution_count": 57,
   "metadata": {},
   "outputs": [
    {
     "data": {
      "text/plain": [
       "'C'"
      ]
     },
     "execution_count": 57,
     "metadata": {},
     "output_type": "execute_result"
    }
   ],
   "source": [
    "align[3][4]"
   ]
  },
  {
   "cell_type": "code",
   "execution_count": 58,
   "metadata": {},
   "outputs": [
    {
     "data": {
      "text/plain": [
       "'C'"
      ]
     },
     "execution_count": 58,
     "metadata": {},
     "output_type": "execute_result"
    }
   ],
   "source": [
    "align[3].seq[4]"
   ]
  },
  {
   "cell_type": "code",
   "execution_count": 59,
   "metadata": {},
   "outputs": [
    {
     "data": {
      "text/plain": [
       "'CCGCG'"
      ]
     },
     "execution_count": 59,
     "metadata": {},
     "output_type": "execute_result"
    }
   ],
   "source": [
    "align[:, 4]"
   ]
  },
  {
   "cell_type": "code",
   "execution_count": 60,
   "metadata": {},
   "outputs": [
    {
     "data": {
      "text/plain": [
       "'CG'"
      ]
     },
     "execution_count": 60,
     "metadata": {},
     "output_type": "execute_result"
    }
   ],
   "source": [
    "align[1:3, 4]"
   ]
  },
  {
   "cell_type": "code",
   "execution_count": 61,
   "metadata": {},
   "outputs": [
    {
     "name": "stdout",
     "output_type": "stream",
     "text": [
      "DNAAlphabet() alignment with 4 rows and 3 columns\n",
      "-CG Beta\n",
      "AGG Gamma\n",
      "ACG Delta\n",
      "-GG Epsilon\n"
     ]
    }
   ],
   "source": [
    "print(align[1:5, 3:6])"
   ]
  },
  {
   "attachments": {},
   "cell_type": "markdown",
   "metadata": {},
   "source": [
    "---"
   ]
  },
  {
   "attachments": {},
   "cell_type": "markdown",
   "metadata": {},
   "source": [
    "sort(self, key=None, reverse=False): Hizalamanın satırlarını (SeqRecord nesneleri) yerinde sıralayın.  \n",
    "\n",
    "Bu, varsayılan olarak SeqRecord nesne kimliğini kullanarak satırları alfabetik olarak sıralar. Sıralama, her SeqRecord'u bir sıralama değeriyle eşlemesi gereken bir anahtar işlev sağlanarak kontrol edilebilir.  \n",
    "\n",
    "Bu, aynı kayıt tanımlayıcılarını kullanan ancak farklı bir sırada olan iki hizalama eklemek istediğinizde kullanışlıdır. Örneğin,"
   ]
  },
  {
   "cell_type": "code",
   "execution_count": 64,
   "metadata": {},
   "outputs": [
    {
     "name": "stdout",
     "output_type": "stream",
     "text": [
      "DNAAlphabet() alignment with 3 rows and 8 columns\n",
      "ACGTCGGT <unknown id>\n",
      "ACGGCGTT <unknown id>\n",
      "ACGCCGCT Chicken\n",
      "\n",
      "DNAAlphabet() alignment with 3 rows and 8 columns\n",
      "ACGCCGCT Chicken\n",
      "ACGTCGTT Human\n",
      "ACGGCGGT Mouse\n"
     ]
    }
   ],
   "source": [
    "from Bio.Alphabet import generic_dna\n",
    "from Bio.Seq import Seq\n",
    "from Bio.SeqRecord import SeqRecord\n",
    "from Bio.Align import MultipleSeqAlignment\n",
    "align1 = MultipleSeqAlignment([\n",
    "             SeqRecord(Seq(\"ACGT\", generic_dna), id=\"Human\"),\n",
    "             SeqRecord(Seq(\"ACGG\", generic_dna), id=\"Mouse\"),\n",
    "             SeqRecord(Seq(\"ACGC\", generic_dna), id=\"Chicken\"),\n",
    "         ])\n",
    "align2 = MultipleSeqAlignment([\n",
    "             SeqRecord(Seq(\"CGGT\", generic_dna), id=\"Mouse\"),\n",
    "             SeqRecord(Seq(\"CGTT\", generic_dna), id=\"Human\"),\n",
    "             SeqRecord(Seq(\"CGCT\", generic_dna), id=\"Chicken\"),\n",
    "         ])\n",
    "\n",
    "print(align1 + align2)\n",
    "print('')\n",
    "align1.sort()\n",
    "align2.sort()\n",
    "print(align1 + align2)"
   ]
  },
  {
   "cell_type": "code",
   "execution_count": 69,
   "metadata": {},
   "outputs": [
    {
     "name": "stdout",
     "output_type": "stream",
     "text": [
      "DNAAlphabet() alignment with 3 rows and 4 columns\n",
      "ACGT Human\n",
      "ACGC Chicken\n",
      "ACGG Mouse\n",
      "\n",
      "DNAAlphabet() alignment with 3 rows and 4 columns\n",
      "ACGT Human\n",
      "ACGC Chicken\n",
      "ACGG Mouse\n",
      "\n",
      "DNAAlphabet() alignment with 3 rows and 4 columns\n",
      "ACGG Mouse\n",
      "ACGT Human\n",
      "ACGC Chicken\n"
     ]
    }
   ],
   "source": [
    "from Bio.SeqUtils import GC\n",
    "print(align1)\n",
    "\n",
    "print('')\n",
    "\n",
    "align1.sort(key = lambda record: GC(record.seq))\n",
    "print(align1)\n",
    "\n",
    "print('')\n",
    "\n",
    "align1.sort(reverse=True)\n",
    "print(align1)"
   ]
  },
  {
   "attachments": {},
   "cell_type": "markdown",
   "metadata": {},
   "source": [
    "---"
   ]
  },
  {
   "attachments": {},
   "cell_type": "markdown",
   "metadata": {},
   "source": [
    "aligned: Birbirine hizalanmış alt dizilerin indekslerini döndürün.  \n",
    "\n",
    "Bu özellik, birbirine hizalanmış hedef ve sorgu dizisindeki alt dizilerin başlangıç ve bitiş dizinlerini döndürür. Hedef (t) ve sorgu (q) arasındaki hizalama N parçadan oluşuyorsa, N uzunluğunda iki demet elde edersiniz:  \n",
    "\n",
    "(((t_start1, t_end1), (t_start2, t_end2), …, (t_startN, t_endN))  \n",
    "((q_start1, q_end1), (q_start2, q_end2), …, (q_startN, q_endN)))"
   ]
  },
  {
   "cell_type": "code",
   "execution_count": 73,
   "metadata": {},
   "outputs": [
    {
     "name": "stdout",
     "output_type": "stream",
     "text": [
      "GAACT\n",
      "||--|\n",
      "GA--T\n",
      "\n"
     ]
    },
    {
     "data": {
      "text/plain": [
       "(((0, 2), (4, 5)), ((0, 2), (2, 3)))"
      ]
     },
     "execution_count": 73,
     "metadata": {},
     "output_type": "execute_result"
    }
   ],
   "source": [
    "from Bio import Align\n",
    "aligner = Align.PairwiseAligner()\n",
    "alignments = aligner.align(\"GAACT\", \"GAT\")\n",
    "alignment = alignments[0]\n",
    "print(alignment)\n",
    "\n",
    "alignment.aligned"
   ]
  },
  {
   "cell_type": "code",
   "execution_count": 76,
   "metadata": {},
   "outputs": [
    {
     "name": "stdout",
     "output_type": "stream",
     "text": [
      "GAACT\n",
      "|-|-|\n",
      "G-A-T\n",
      "\n"
     ]
    },
    {
     "data": {
      "text/plain": [
       "(((0, 1), (2, 3), (4, 5)), ((0, 1), (1, 2), (2, 3)))"
      ]
     },
     "execution_count": 76,
     "metadata": {},
     "output_type": "execute_result"
    }
   ],
   "source": [
    "alignment = alignments[1]\n",
    "print(alignment)\n",
    "\n",
    "alignment.aligned"
   ]
  },
  {
   "cell_type": "code",
   "execution_count": 80,
   "metadata": {},
   "outputs": [
    {
     "data": {
      "text/plain": [
       "2"
      ]
     },
     "execution_count": 80,
     "metadata": {},
     "output_type": "execute_result"
    }
   ],
   "source": [
    "aligner.mismatch_score = -10\n",
    "alignments = aligner.align(\"AAACAAA\", \"AAAGAAA\")\n",
    "len(alignments)"
   ]
  },
  {
   "cell_type": "code",
   "execution_count": 81,
   "metadata": {},
   "outputs": [
    {
     "name": "stdout",
     "output_type": "stream",
     "text": [
      "AAAC-AAA\n",
      "|||--|||\n",
      "AAA-GAAA\n",
      "\n"
     ]
    }
   ],
   "source": [
    "print(alignments[0])"
   ]
  },
  {
   "cell_type": "code",
   "execution_count": 82,
   "metadata": {},
   "outputs": [
    {
     "data": {
      "text/plain": [
       "(((0, 3), (4, 7)), ((0, 3), (4, 7)))"
      ]
     },
     "execution_count": 82,
     "metadata": {},
     "output_type": "execute_result"
    }
   ],
   "source": [
    "alignments[0].aligned"
   ]
  },
  {
   "cell_type": "code",
   "execution_count": 83,
   "metadata": {},
   "outputs": [
    {
     "name": "stdout",
     "output_type": "stream",
     "text": [
      "AAA-CAAA\n",
      "|||--|||\n",
      "AAAG-AAA\n",
      "\n"
     ]
    }
   ],
   "source": [
    "print(alignments[1])"
   ]
  },
  {
   "cell_type": "code",
   "execution_count": 84,
   "metadata": {},
   "outputs": [
    {
     "data": {
      "text/plain": [
       "(((0, 3), (4, 7)), ((0, 3), (4, 7)))"
      ]
     },
     "execution_count": 84,
     "metadata": {},
     "output_type": "execute_result"
    }
   ],
   "source": [
    "alignments[1].aligned"
   ]
  },
  {
   "attachments": {},
   "cell_type": "markdown",
   "metadata": {},
   "source": [
    "---"
   ]
  },
  {
   "attachments": {},
   "cell_type": "markdown",
   "metadata": {},
   "source": [
    "```\n",
    "classBio.Align.PairwiseAligner\n",
    "```"
   ]
  },
  {
   "attachments": {},
   "cell_type": "markdown",
   "metadata": {},
   "source": [
    "Dinamik programlamayı kullanarak ikili (pairwise) sıra hizalaması gerçekleştirir.  \n",
    "\n",
    "Bu, iki dizi arasında global ve local hizalamalar elde etmek için işlevler sağlar. Global bir hizalama, iki dizideki tüm karakterler arasındaki en iyi uyumu bulur. Local hizalama, yalnızca en iyi hizalanan alt dizileri bulur.  \n",
    "\n",
    "İkili dizi hizalaması gerçekleştirmek için önce bir PairwiseAligner nesnesi oluşturun. Bu nesne, eşleşme ve uyuşmazlık puanlarının yanı sıra boşluk puanlarını da saklar. Tipik olarak match puanları pozitifken uyumsuzluk puanları ve boşluk puanları negatif veya sıfırdır. Varsayılan olarak, eşleşme puanı 1'dir ve uyumsuzluk ve boşluk puanları sıfırdır. Boşluk puanlarının değerlerine bağlı olarak, bir PairwiseAligner nesnesi uygun hizalama algoritmasını (Needleman-Wunsch, Smith-Waterman, Gotoh veya Waterman-Smith-Beyer genel veya yerel hizalama algoritması) otomatik olarak seçer.  \n",
    "\n",
    "Argüman olarak iki dizili hizalayıcıda \"skor\" yöntemini çağırmak, iki dizi arasındaki hizalama puanını hesaplayacaktır. Argüman olarak iki dizili hizalayıcıda \"align\" yöntemini çağırmak, iki dizi arasındaki hizalamaları veren bir üreteç döndürür.  "
   ]
  },
  {
   "cell_type": "code",
   "execution_count": 85,
   "metadata": {},
   "outputs": [
    {
     "name": "stdout",
     "output_type": "stream",
     "text": [
      "Score = 3.0:\n",
      "TACCG\n",
      "-|-||\n",
      "-A-CG\n",
      "\n",
      "Score = 3.0:\n",
      "TACCG\n",
      "-||-|\n",
      "-AC-G\n",
      "\n"
     ]
    }
   ],
   "source": [
    "from Bio import Align\n",
    "aligner = Align.PairwiseAligner()\n",
    "alignments = aligner.align(\"TACCG\", \"ACG\")\n",
    "for alignment in sorted(alignments):\n",
    "    print(\"Score = %.1f:\" % alignment.score)\n",
    "    print(alignment)"
   ]
  },
  {
   "cell_type": "code",
   "execution_count": 86,
   "metadata": {},
   "outputs": [
    {
     "name": "stdout",
     "output_type": "stream",
     "text": [
      "Score = 3.0:\n",
      "TACCG\n",
      " |-||\n",
      " A-CG\n",
      "\n",
      "Score = 3.0:\n",
      "TACCG\n",
      " ||-|\n",
      " AC-G\n",
      "\n"
     ]
    }
   ],
   "source": [
    "aligner.mode = 'local'\n",
    "alignments = aligner.align(\"TACCG\", \"ACG\")\n",
    "for alignment in sorted(alignments):\n",
    "    print(\"Score = %.1f:\" % alignment.score)\n",
    "    print(alignment)"
   ]
  },
  {
   "cell_type": "code",
   "execution_count": 87,
   "metadata": {},
   "outputs": [
    {
     "name": "stdout",
     "output_type": "stream",
     "text": [
      "Score = 6.0:\n",
      "TACCG\n",
      "-||-|\n",
      "-AC-G\n",
      "\n",
      "Score = 6.0:\n",
      "TACCG\n",
      "-|-||\n",
      "-A-CG\n",
      "\n"
     ]
    }
   ],
   "source": [
    "aligner.mode = 'global'\n",
    "aligner.match_score = 2\n",
    "aligner.mismatch_score = -1\n",
    "for alignment in aligner.align(\"TACCG\", \"ACG\"):\n",
    "    print(\"Score = %.1f:\" % alignment.score)\n",
    "    print(alignment)"
   ]
  },
  {
   "cell_type": "code",
   "execution_count": 88,
   "metadata": {},
   "outputs": [
    {
     "name": "stdout",
     "output_type": "stream",
     "text": [
      "Score = 5.5:\n",
      "TACCG\n",
      "-|-||\n",
      "-A-CG\n",
      "\n",
      "Score = 5.5:\n",
      "TACCG\n",
      "-||-|\n",
      "-AC-G\n",
      "\n"
     ]
    }
   ],
   "source": [
    "aligner.open_gap_score = -0.5\n",
    "aligner.extend_gap_score = -0.1\n",
    "aligner.target_end_gap_score = 0.0\n",
    "aligner.query_end_gap_score = 0.0\n",
    "for alignment in aligner.align(\"TACCG\", \"ACG\"):\n",
    "    print(\"Score = %.1f:\" % alignment.score)\n",
    "    print(alignment)"
   ]
  },
  {
   "cell_type": "code",
   "execution_count": 89,
   "metadata": {},
   "outputs": [
    {
     "name": "stdout",
     "output_type": "stream",
     "text": [
      "Number of alignments: 1\n"
     ]
    }
   ],
   "source": [
    "from Bio.Align import substitution_matrices\n",
    "aligner = Align.PairwiseAligner()\n",
    "aligner.substitution_matrix = substitution_matrices.load(\"BLOSUM62\")\n",
    "alignments = aligner.align(\"KEVLA\", \"EVL\")\n",
    "alignments = list(alignments)\n",
    "print(\"Number of alignments: %d\" % len(alignments))"
   ]
  },
  {
   "cell_type": "code",
   "execution_count": 90,
   "metadata": {},
   "outputs": [
    {
     "name": "stdout",
     "output_type": "stream",
     "text": [
      "Score = 13.0\n"
     ]
    }
   ],
   "source": [
    "alignment = alignments[0]\n",
    "print(\"Score = %.1f\" % alignment.score)"
   ]
  },
  {
   "cell_type": "code",
   "execution_count": 91,
   "metadata": {},
   "outputs": [
    {
     "name": "stdout",
     "output_type": "stream",
     "text": [
      "KEVLA\n",
      "-|||-\n",
      "-EVL-\n",
      "\n"
     ]
    }
   ],
   "source": [
    "print(alignment)"
   ]
  }
 ],
 "metadata": {
  "kernelspec": {
   "display_name": "Python 3",
   "language": "python",
   "name": "python3"
  },
  "language_info": {
   "codemirror_mode": {
    "name": "ipython",
    "version": 3
   },
   "file_extension": ".py",
   "mimetype": "text/x-python",
   "name": "python",
   "nbconvert_exporter": "python",
   "pygments_lexer": "ipython3",
   "version": "3.6.5"
  },
  "orig_nbformat": 4
 },
 "nbformat": 4,
 "nbformat_minor": 2
}
