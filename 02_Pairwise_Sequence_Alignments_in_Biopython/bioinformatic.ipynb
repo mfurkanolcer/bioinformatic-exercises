{
 "cells": [
  {
   "attachments": {},
   "cell_type": "markdown",
   "metadata": {},
   "source": [
    "# Pairwise Sequence Alignments in Biopython"
   ]
  },
  {
   "attachments": {},
   "cell_type": "markdown",
   "metadata": {},
   "source": [
    "**İkili Sekans Hizalama (Pairwise Sequence Alignments)**, iki biyolojik sekans (protein veya nükleik asit) arasındaki işlevsel, yapısal ve/veya evrimsel ilişkileri gösterebilen benzerlik bölgelerini belirlemek için kullanılır."
   ]
  },
  {
   "attachments": {},
   "cell_type": "markdown",
   "metadata": {},
   "source": [
    "Benzer bölgeyi belirlemek, türler arasında hangi özelliklerin korunduğu, farklı türlerin genetik olarak ne kadar yakın olduğu, türlerin nasıl evrimleştiği vb. gibi birçok bilgiyi çıkarmamızı sağlar."
   ]
  },
  {
   "attachments": {},
   "cell_type": "markdown",
   "metadata": {},
   "source": [
    "## İkili Sekans Hizalama Türleri:"
   ]
  },
  {
   "attachments": {},
   "cell_type": "markdown",
   "metadata": {},
   "source": [
    "İkili sekans hizalama, benzerliklerine veya mesafelerine (ne kadar farklı olduklarına) göre puanlama yaparak daha sonra bu puanın önemini değerlendirerek, iki sekans arasındaki optimum hizalamayı sağlamak için dinamik bir programlama kullanır."
   ]
  },
  {
   "attachments": {},
   "cell_type": "markdown",
   "metadata": {},
   "source": [
    "**1- Global Alignment:** İki sekansın tüm uzunlukları boyunca en iyi hizalamayı bulur. X ve Y dizisi arasındaki maksimum benzerliği sorgular.\n",
    "\n",
    "**2- Local Alignment:** İki sekans arasında en benzer alt dizileri bulur. X'in bir alt dizisi ile Y'nin bir alt dizisi arasındaki maksimum benzerliği sorgular."
   ]
  },
  {
   "attachments": {},
   "cell_type": "markdown",
   "metadata": {},
   "source": [
    "Hizalama yaparken **eşleşme (match)** skorunu ve **boşluk cezalarını (gap penalties)** belirleyebilirsiniz.\n",
    "\n",
    "1- Eşleşme puanı, sekanslardaki iki karakterin hizalanması arasındaki uyumu gösterir. Çok uyumlu karakterlere **pozitif** puan, uyumsuz olanlara ise **negatif** veya **0** puan verilmelidir.\n",
    "\n",
    "2- Boşluk cezaları **negatif** olmalıdır."
   ]
  },
  {
   "attachments": {},
   "cell_type": "markdown",
   "metadata": {},
   "source": [
    "## Bio.pairwise2"
   ]
  },
  {
   "attachments": {},
   "cell_type": "markdown",
   "metadata": {},
   "source": [
    "Biopython iki yerleşik ikili hizalayıcı içerir: **Bio.pairwise2** modülü ve **Bio.Align** modülü içindeki **PairwiseAligner** sınıfı (Biopython sürüm 1.72'den beri). Her ikisi de global ve local alignment gerçekleştirebilir."
   ]
  },
  {
   "attachments": {},
   "cell_type": "markdown",
   "metadata": {},
   "source": [
    "**Eşleşme (match)** parametreleri şunlardır:\n",
    "\n",
    "x - Parametre yok. Aynı karakterlerin puanı 1, aksi takdirde 0'dır.  \n",
    "m - Bir eşleşme puanı, aynı karakterlerin puanıdır, aksi takdirde uyumsuzluk puanıdır. --> match, mismatch  \n",
    "d - Bir sözlük, herhangi bir karakter çiftinin puanını verir. --> match_dict  \n",
    "c - Bir geri arama işlevi puanları döndürür. --> match_fn  "
   ]
  },
  {
   "attachments": {},
   "cell_type": "markdown",
   "metadata": {},
   "source": [
    "**Boşluk cezası (gap penalties)** parametreleri şunlardır:\n",
    "\n",
    "x - Boşluk cezası yok  \n",
    "s - Her iki dizi için de aynı open (açma) ve extend (uzatma) aralığı cezaları. --> open, extend  \n",
    "d - Dizilerin farklı open (açma) ve extend (uzatma) aralığı cezaları vardır. --> openA, extensionA, openB, extensionB  \n",
    "c - Bir geri arama işlevi, boşluk cezalarını döndürür. --> gap_A_fn, gap_B_fn  "
   ]
  },
  {
   "attachments": {},
   "cell_type": "markdown",
   "metadata": {},
   "source": [
    "Tüm farklı hizalama işlevleri **align** nesnesinde bulunur. \n",
    " \n",
    "Örneğin:"
   ]
  },
  {
   "cell_type": "code",
   "execution_count": 67,
   "metadata": {},
   "outputs": [],
   "source": [
    "from Bio import pairwise2\n",
    "alignments = pairwise2.align.globalxx(\"ACCGT\", \"ACG\")"
   ]
  },
  {
   "attachments": {},
   "cell_type": "markdown",
   "metadata": {},
   "source": [
    "iki sekans arasındaki hizalamaların bir listesini döndürür. Daha iyi görünen bir çıktı için **format_alignment** modülü yöntemini kullanabilirsiniz:"
   ]
  },
  {
   "cell_type": "markdown",
   "metadata": {},
   "source": []
  },
  {
   "cell_type": "code",
   "execution_count": 68,
   "metadata": {},
   "outputs": [
    {
     "name": "stdout",
     "output_type": "stream",
     "text": [
      "ACCGT\n",
      "| || \n",
      "A-CG-\n",
      "  Score=3\n",
      "\n"
     ]
    }
   ],
   "source": [
    "from Bio.pairwise2 import format_alignment\n",
    "print(format_alignment(*alignments[0]))"
   ]
  },
  {
   "attachments": {},
   "cell_type": "markdown",
   "metadata": {},
   "source": [
    "Tüm hizalama işlevleri aşağıdaki bağımsız değişkenlere sahiptir:\n",
    "\n",
    "- İki sekans: String ler, Biopython dizi nesneleri veya listeler. Listeler, birden fazla harfle kodlanan artıkları içeren dizileri sağlamak için kullanışlıdır.  \n",
    "\n",
    "- **penalize_extend_when_opening:** boolean (varsayılan: False). Bir boşluk açılırken bir uzatma (extend) cezasının sayılıp sayılmayacağı. Yanlış ise, 1'lik bir boşluk yalnızca \"açma (open)\" cezası ile cezalandırılır, aksi takdirde \"open+extend\" ile cezalandırılır.  \n",
    "\n",
    "- **penalize_end_gaps:** boolean. Hizalamanın sonundaki boşlukların sayılıp sayılmayacağı. Varsayılan olarak, global alignment için sayılırlar ancak local alignment için sayılmazlar. (boolean, boolean) olarak ayarlamak **penalize_end_gaps**, hizalamanın sonundaki boşlukların sayılması gerekip gerekmediğini iki dizi için ayrı ayrı belirtmenize olanak tanır.  \n",
    "\n",
    "- **gap_char:** string (varsayılan: '-'). Hizalamada boşluk karakteri olarak hangi karakterin kullanılacağı döndürüldü. Giriş dizileriniz liste ise, bunu olarak değiştirmelisiniz ['-'].  \n",
    "\n",
    "- **force_generic:** boolean (varsayılan: False). Hata ayıklama için daima genel, önbelleğe alınmamış, dinamik programlama işlevini kullanın.  \n",
    "\n",
    "- **score_only:** boolean (varsayılan: False). Yalnızca en iyi puanı alın, herhangi bir hizalamayı kurtarmayın. Fonksiyonun dönüş değeri puandır. Daha hızlı ve daha az bellek kullanır.  \n",
    "\n",
    "- **one_alignment_only:** boolean (varsayılan: False). Yalnızca bir hizalamayı kurtarın.  "
   ]
  },
  {
   "attachments": {},
   "cell_type": "markdown",
   "metadata": {},
   "source": [
    "Hizalama işlevinin diğer parametreleri, çağrılan işleve bağlıdır. Bazı örnekler:  \n",
    "\n",
    "- İki sekans arasındaki en iyi global alignment bulun. Aynı karakterlere 1 puan verilir. Uyumsuzluklar veya boşluklar için puan düşülmez."
   ]
  },
  {
   "cell_type": "code",
   "execution_count": 69,
   "metadata": {},
   "outputs": [
    {
     "name": "stdout",
     "output_type": "stream",
     "text": [
      "ACCGT\n",
      "| || \n",
      "A-CG-\n",
      "  Score=3\n",
      "\n",
      "ACCGT\n",
      "|| | \n",
      "AC-G-\n",
      "  Score=3\n",
      "\n"
     ]
    }
   ],
   "source": [
    "for a in pairwise2.align.globalxx(\"ACCGT\", \"ACG\"):\n",
    "    print(format_alignment(*a))"
   ]
  },
  {
   "attachments": {},
   "cell_type": "markdown",
   "metadata": {},
   "source": [
    "- Öncekiyle aynı, ancak local alignment ile **format_alignment**'ın sekansların yalnızca hizalanmış kısımlarını başlangıç konumlarıyla birlikte göstereceğine dikkat edin."
   ]
  },
  {
   "cell_type": "code",
   "execution_count": 70,
   "metadata": {},
   "outputs": [
    {
     "name": "stdout",
     "output_type": "stream",
     "text": [
      "1 ACCG\n",
      "  | ||\n",
      "1 A-CG\n",
      "  Score=3\n",
      "\n",
      "1 ACCG\n",
      "  || |\n",
      "1 AC-G\n",
      "  Score=3\n",
      "\n"
     ]
    }
   ],
   "source": [
    "for a in pairwise2.align.localxx(\"ACCGT\", \"ACG\"):\n",
    "    print(format_alignment(*a))"
   ]
  },
  {
   "attachments": {},
   "cell_type": "markdown",
   "metadata": {},
   "source": [
    "- **format_alignment**'in önceki davranışını geri yüklemek, yani her iki sekansın hizalanmamış kısımlarını da göstermek için, **\"full_sequences\"** parametresi kullanılır.  "
   ]
  },
  {
   "cell_type": "code",
   "execution_count": 71,
   "metadata": {},
   "outputs": [
    {
     "name": "stdout",
     "output_type": "stream",
     "text": [
      "ACCGT\n",
      "| || \n",
      "A-CG-\n",
      "  Score=3\n",
      "\n",
      "ACCGT\n",
      "|| | \n",
      "AC-G-\n",
      "  Score=3\n",
      "\n"
     ]
    }
   ],
   "source": [
    "for a in pairwise2.align.localxx(\"ACCGT\", \"ACG\"):\n",
    "    print(format_alignment(*a, full_sequences=True))"
   ]
  },
  {
   "attachments": {},
   "cell_type": "markdown",
   "metadata": {},
   "source": [
    "- Global alignment ile aynı karakterlere 2 puan verilir, aynı olmayan her karakter için 1 puan düşülür. Boşluklar cezalandırılmaz."
   ]
  },
  {
   "cell_type": "code",
   "execution_count": 72,
   "metadata": {},
   "outputs": [
    {
     "name": "stdout",
     "output_type": "stream",
     "text": [
      "ACCGT\n",
      "| || \n",
      "A-CG-\n",
      "  Score=6\n",
      "\n",
      "ACCGT\n",
      "|| | \n",
      "AC-G-\n",
      "  Score=6\n",
      "\n"
     ]
    }
   ],
   "source": [
    "for a in pairwise2.align.globalmx(\"ACCGT\", \"ACG\", 2, -1):\n",
    "    print(format_alignment(*a))"
   ]
  },
  {
   "attachments": {},
   "cell_type": "markdown",
   "metadata": {},
   "source": [
    "- Yukarıdakiyle aynı, ancak şimdi bir boşluk açılırken 0,5 puan düşülür ve boşluk genişletilirken 0,1 puan düşülür."
   ]
  },
  {
   "cell_type": "code",
   "execution_count": 73,
   "metadata": {},
   "outputs": [
    {
     "name": "stdout",
     "output_type": "stream",
     "text": [
      "ACCGT\n",
      "| || \n",
      "A-CG-\n",
      "  Score=5\n",
      "\n",
      "ACCGT\n",
      "|| | \n",
      "AC-G-\n",
      "  Score=5\n",
      "\n"
     ]
    }
   ],
   "source": [
    "for a in pairwise2.align.globalms(\"ACCGT\", \"ACG\", 2, -1, -.5, -.1):\n",
    "    print(format_alignment(*a))"
   ]
  },
  {
   "attachments": {},
   "cell_type": "markdown",
   "metadata": {},
   "source": [
    "- Cezalara bağlı olarak, bir dizideki boşluğu diğer dizideki boşluk takip edebilir. Bu davranış beğenilmezse boşluk açma cezası artırılabilir."
   ]
  },
  {
   "cell_type": "code",
   "execution_count": 74,
   "metadata": {},
   "outputs": [
    {
     "name": "stdout",
     "output_type": "stream",
     "text": [
      "A-\n",
      "  \n",
      "-T\n",
      "  Score=-2\n",
      "\n"
     ]
    }
   ],
   "source": [
    "for a in pairwise2.align.globalms(\"A\", \"T\", 5, -4, -1, -.1):\n",
    "    print(format_alignment(*a))"
   ]
  },
  {
   "cell_type": "code",
   "execution_count": 75,
   "metadata": {},
   "outputs": [
    {
     "name": "stdout",
     "output_type": "stream",
     "text": [
      "A\n",
      ".\n",
      "T\n",
      "  Score=-4\n",
      "\n"
     ]
    }
   ],
   "source": [
    "for a in pairwise2.align.globalms(\"A\", \"T\", 5, -4, -3, -.1):\n",
    "    print(format_alignment(*a))"
   ]
  },
  {
   "attachments": {},
   "cell_type": "markdown",
   "metadata": {},
   "source": [
    "- Hizalama işlevi, **Biopython**'da zaten bulunan ve bilinen matrisleri de kullanabilir (**Bio.SubsMat**'tan **MatrixInfo**):"
   ]
  },
  {
   "cell_type": "code",
   "execution_count": 76,
   "metadata": {},
   "outputs": [
    {
     "name": "stdout",
     "output_type": "stream",
     "text": [
      "KEVLA\n",
      " ||| \n",
      "-EVL-\n",
      "  Score=13\n",
      "\n"
     ]
    }
   ],
   "source": [
    "from Bio.SubsMat import MatrixInfo as matlist\n",
    "matrix = matlist.blosum62\n",
    "for a in pairwise2.align.globaldx(\"KEVLA\", \"EVL\", matrix):\n",
    "    print(format_alignment(*a))"
   ]
  },
  {
   "attachments": {},
   "cell_type": "markdown",
   "metadata": {},
   "source": [
    "- **\"c\"** parametresi ile kendi eşleştirme ve boşluk fonksiyonlarınızı tanımlayabilirsiniz. Örneğin; bir afin logaritmik boşluk fonksiyonu tanımlamak ve onu kullanmak için:"
   ]
  },
  {
   "cell_type": "code",
   "execution_count": 77,
   "metadata": {},
   "outputs": [
    {
     "name": "stdout",
     "output_type": "stream",
     "text": [
      "ACCCCCGT\n",
      "|    || \n",
      "A----CG-\n",
      "  Score=9.30685\n",
      "\n",
      "ACCCCCGT\n",
      "||    | \n",
      "AC----G-\n",
      "  Score=9.30685\n",
      "\n"
     ]
    }
   ],
   "source": [
    "from math import log\n",
    "def gap_function(x, y):  # x is gap position in seq, y is gap length\n",
    "     if y == 0:  # No gap\n",
    "        return 0\n",
    "     elif y == 1:  # Gap open penalty\n",
    "        return -2\n",
    "     return - (2 + y/4.0 + log(y)/2.0)\n",
    "\n",
    "alignments = pairwise2.align.globalmc(\"ACCCCCGT\", \"ACG\", match=5, mismatch=-4,\n",
    "                                     gap_A_fn=gap_function, gap_B_fn=gap_function)\n",
    "for alignment in alignments:\n",
    "    print(pairwise2.format_alignment(*alignment))"
   ]
  },
  {
   "attachments": {},
   "cell_type": "markdown",
   "metadata": {},
   "source": [
    "Her sıra için farklı boşluk fonksiyonları tanımlanabilir. Kendinden tanımlı eşleştirme işlevleri, karşılaştırılacak iki kalıntıyı almalı ve bir puan döndürmelidir."
   ]
  }
 ],
 "metadata": {
  "kernelspec": {
   "display_name": "Python 3",
   "language": "python",
   "name": "python3"
  },
  "language_info": {
   "codemirror_mode": {
    "name": "ipython",
    "version": 3
   },
   "file_extension": ".py",
   "mimetype": "text/x-python",
   "name": "python",
   "nbconvert_exporter": "python",
   "pygments_lexer": "ipython3",
   "version": "3.6.5"
  },
  "orig_nbformat": 4
 },
 "nbformat": 4,
 "nbformat_minor": 2
}
