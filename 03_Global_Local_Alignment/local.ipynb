{
 "cells": [
  {
   "attachments": {},
   "cell_type": "markdown",
   "metadata": {},
   "source": [
    "## Local Alignment"
   ]
  },
  {
   "cell_type": "code",
   "execution_count": 8,
   "metadata": {},
   "outputs": [
    {
     "name": "stdout",
     "output_type": "stream",
     "text": [
      "\n",
      "KVLEF\n",
      "KALEF\n",
      "\n",
      "Match Sayisi:    4\n",
      "Mismatch Sayisi: 1\n",
      "Gap Sayisi:      0\n",
      "Eşleşme Skoru:   14\n",
      "\n"
     ]
    }
   ],
   "source": [
    "sekans1 = 'KVLEFGY'\n",
    "sekans2 = 'EQLLKALEFKL'\n",
    "\n",
    "def localAlignment(sekans1, sekans2, match_skoru=4, mismatch_skoru=-2, gap_penalti=-1):\n",
    "\n",
    "    n, m = len(sekans1), len(sekans2)\n",
    "    score_matrix = [[0] * (m + 1) for i in range(n + 1)]\n",
    "\n",
    "    max_skor = 0\n",
    "    max_i, max_j = 0, 0\n",
    "    for i in range(1, n + 1):\n",
    "        for j in range(1, m + 1):\n",
    "            match = score_matrix[i - 1][j - 1] + (match_skoru if sekans1[i - 1] == sekans2[j - 1] else mismatch_skoru)\n",
    "            delete = score_matrix[i - 1][j] + gap_penalti\n",
    "            insert = score_matrix[i][j - 1] + gap_penalti\n",
    "            score_matrix[i][j] = max(0, match, delete, insert)\n",
    "            if score_matrix[i][j] > max_skor:\n",
    "                max_skor = score_matrix[i][j]\n",
    "                max_i, max_j = i, j\n",
    "\n",
    "\n",
    "    align1, align2 = '', ''\n",
    "    i, j = max_i, max_j\n",
    "    matches, mismatches, gaps = 0, 0, 0\n",
    "    while i > 0 and j > 0 and score_matrix[i][j] != 0:\n",
    "        if sekans1[i - 1] == sekans2[j - 1]:\n",
    "            align1 = sekans1[i - 1] + align1\n",
    "            align2 = sekans2[j - 1] + align2\n",
    "            i -= 1\n",
    "            j -= 1\n",
    "            matches += 1\n",
    "        elif i > 0 and j > 0 and score_matrix[i][j] == score_matrix[i - 1][j - 1] + mismatch_skoru:\n",
    "            align1 = sekans1[i - 1] + align1\n",
    "            align2 = sekans2[j - 1] + align2\n",
    "            i -= 1\n",
    "            j -= 1\n",
    "            mismatches += 1\n",
    "        elif i > 0 and score_matrix[i][j] == score_matrix[i - 1][j] + gap_penalti:\n",
    "            align1 = sekans1[i - 1] + align1\n",
    "            align2 = '-' + align2\n",
    "            i -= 1\n",
    "            gaps += 1\n",
    "        else:\n",
    "            align1 = '-' + align1\n",
    "            align2 = sekans2[j - 1] + align2\n",
    "            j -= 1\n",
    "            gaps += 1\n",
    "\n",
    "    return align1, align2, max_skor, matches, mismatches, gaps\n",
    "\n",
    "\n",
    "align1, align2, score, matches, mismatches, gaps = localAlignment(sekans1, sekans2)\n",
    "\n",
    "\n",
    "print('')\n",
    "print(align1)\n",
    "print(align2)\n",
    "print('')\n",
    "print('Match Sayisi:    ' + str(matches))\n",
    "print('Mismatch Sayisi: ' + str(mismatches))\n",
    "print('Gap Sayisi:      ' + str(gaps))\n",
    "print('Eşleşme Skoru:   ' + str(score))\n",
    "print('')\n"
   ]
  }
 ],
 "metadata": {
  "kernelspec": {
   "display_name": "Python 3",
   "language": "python",
   "name": "python3"
  },
  "language_info": {
   "codemirror_mode": {
    "name": "ipython",
    "version": 3
   },
   "file_extension": ".py",
   "mimetype": "text/x-python",
   "name": "python",
   "nbconvert_exporter": "python",
   "pygments_lexer": "ipython3",
   "version": "3.6.5"
  },
  "orig_nbformat": 4
 },
 "nbformat": 4,
 "nbformat_minor": 2
}
