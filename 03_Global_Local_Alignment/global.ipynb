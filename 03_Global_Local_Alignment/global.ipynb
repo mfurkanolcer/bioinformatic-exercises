{
 "cells": [
  {
   "attachments": {},
   "cell_type": "markdown",
   "metadata": {},
   "source": [
    "## Global Alignment"
   ]
  },
  {
   "cell_type": "code",
   "execution_count": 5,
   "metadata": {},
   "outputs": [
    {
     "name": "stdout",
     "output_type": "stream",
     "text": [
      "\n",
      "G-ATTACA\n",
      "GCATG-CU\n",
      "\n",
      "Match Sayisi:    4\n",
      "Mismatch Sayisi: 2\n",
      "Gap Sayisi:      2\n",
      "Eşleşme Skoru:   0\n",
      "\n"
     ]
    }
   ],
   "source": [
    "sekans1 = 'GATTACA'\n",
    "sekans2 = 'GCATGCU'\n",
    "\n",
    "def globalAlignment(sekans1, sekans2, match_skoru=1, mismatch_skoru=-1, gap_penalti=-1):\n",
    "    \n",
    "    n, m = len(sekans1), len(sekans2)\n",
    "    skor_matrix = [[0] * (m + 1) for i in range(n + 1)]\n",
    "\n",
    "\n",
    "    for i in range(n + 1):\n",
    "        skor_matrix[i][0] = gap_penalti * i\n",
    "    for j in range(m + 1):\n",
    "        skor_matrix[0][j] = gap_penalti * j\n",
    "\n",
    "\n",
    "    for i in range(1, n + 1):\n",
    "        for j in range(1, m + 1):\n",
    "            match = skor_matrix[i - 1][j - 1] + (match_skoru if sekans1[i - 1] == sekans2[j - 1] else mismatch_skoru)\n",
    "            delete = skor_matrix[i - 1][j] + gap_penalti\n",
    "            insert = skor_matrix[i][j - 1] + gap_penalti\n",
    "            skor_matrix[i][j] = max(match, delete, insert)\n",
    "\n",
    "    align1, align2 = '', ''\n",
    "    i, j = n, m\n",
    "    matches, mismatches, gaps = 0, 0, 0\n",
    "    while i > 0 or j > 0:\n",
    "        if i > 0 and j > 0 and sekans1[i - 1] == sekans2[j - 1]:\n",
    "            align1 = sekans1[i - 1] + align1\n",
    "            align2 = sekans2[j - 1] + align2\n",
    "            i -= 1\n",
    "            j -= 1\n",
    "            matches += 1\n",
    "        elif i > 0 and skor_matrix[i][j] == skor_matrix[i - 1][j] + gap_penalti:\n",
    "            align1 = sekans1[i - 1] + align1\n",
    "            align2 = '-' + align2\n",
    "            i -= 1\n",
    "            gaps += 1\n",
    "        elif j > 0 and skor_matrix[i][j] == skor_matrix[i][j - 1] + gap_penalti:\n",
    "            align1 = '-' + align1\n",
    "            align2 = sekans2[j - 1] + align2\n",
    "            j -= 1\n",
    "            gaps += 1\n",
    "        else:\n",
    "            align1 = sekans1[i - 1] + align1\n",
    "            align2 = sekans2[j - 1] + align2\n",
    "            i -= 1\n",
    "            j -= 1\n",
    "            mismatches += 1\n",
    "\n",
    "    return align1, align2, skor_matrix[n][m], matches, mismatches, gaps\n",
    "\n",
    "align1, align2, score, matches, mismatches, gaps = globalAlignment(sekans1, sekans2)\n",
    "\n",
    "print('')\n",
    "print(align1)\n",
    "print(align2)\n",
    "print('')\n",
    "print('Match Sayisi:    ' + str(matches))\n",
    "print('Mismatch Sayisi: ' + str(mismatches))\n",
    "print('Gap Sayisi:      ' + str(gaps))\n",
    "print('Eşleşme Skoru:   ' + str(score))\n",
    "print('')"
   ]
  }
 ],
 "metadata": {
  "kernelspec": {
   "display_name": "Python 3",
   "language": "python",
   "name": "python3"
  },
  "language_info": {
   "name": "python",
   "version": "3.6.5"
  },
  "orig_nbformat": 4
 },
 "nbformat": 4,
 "nbformat_minor": 2
}
