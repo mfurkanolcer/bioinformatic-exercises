{
 "cells": [
  {
   "attachments": {},
   "cell_type": "markdown",
   "metadata": {},
   "source": [
    "## A Simple Biopython Application\n",
    "\n",
    "• Bir biyoinformatik dosyasını ayırmak ve içeriğini yazdırmak için basit bir Biopython uygulaması."
   ]
  },
  {
   "cell_type": "code",
   "execution_count": 104,
   "metadata": {},
   "outputs": [
    {
     "name": "stdout",
     "output_type": "stream",
     "text": [
      "Id: sp|P25730|FMS1_ECOLI\n",
      "Name: sp|P25730|FMS1_ECOLI\n",
      "Description: sp|P25730|FMS1_ECOLI CS1 fimbrial subunit A precursor (CS1 pilin)\n",
      "Annotations: {}\n",
      "Sequence Data: MKLKKTIGAMALATLFATMGASAVEKTISVTASVDPTVDLLQSDGSALPNSVALTYSPAVNNFEAHTINTVVHTNDSDKGVVVKLSADPVLSNVLNPTLQIPVSVNFAGKPLSTTGITIDSNDLNFASSGVNKVSSTQKLSIHADATRVTGGALTAGQYQGLVSIILTKSTTTTTTTKGT\n",
      "Sequence Alphabet: SingleLetterAlphabet()\n",
      "\n",
      "\n",
      "Id: sp|P15488|FMS3_ECOLI\n",
      "Name: sp|P15488|FMS3_ECOLI\n",
      "Description: sp|P15488|FMS3_ECOLI CS3 fimbrial subunit A precursor (CS3 pilin)\n",
      "Annotations: {}\n",
      "Sequence Data: MLKIKYLLIGLSLSAMSSYSLAAAGPTLTKELALNVLSPAALDATWAPQDNLTLSNTGVSNTLVGVLTLSNTSIDTVSIASTNVSDTSKNGTVTFAHETNNSASFATTISTDNANITLDKNAGNTIVKTTNGSQLPTNLPLKFITTEGNEHLVSGNYRANITITSTIKGGGTKKGTTDKK\n",
      "Sequence Alphabet: SingleLetterAlphabet()\n",
      "\n",
      "\n"
     ]
    }
   ],
   "source": [
    "from Bio.SeqIO import parse \n",
    "from Bio.SeqRecord import SeqRecord \n",
    "from Bio.Seq import Seq\n",
    "\n",
    "file = open(\"example.fasta\") \n",
    "\n",
    "records = parse(file, \"fasta\") \n",
    "\n",
    "for record in records:    \n",
    "   print(\"Id: %s\" % record.id) \n",
    "   print(\"Name: %s\" % record.name) \n",
    "   print(\"Description: %s\" % record.description) \n",
    "   print(\"Annotations: %s\" % record.annotations) \n",
    "   print(\"Sequence Data: %s\" % record.seq) \n",
    "   print(\"Sequence Alphabet: %s\" % record.seq.alphabet)\n",
    "   print(\"\\n\")  "
   ]
  },
  {
   "attachments": {},
   "cell_type": "markdown",
   "metadata": {},
   "source": [
    "## Sequence\n",
    "\n",
    "• Bir sequence (sekans), bir organizmanın proteinini, DNA'sını veya RNA'sını temsil etmek için kullanılan harf dizisidir.  \n",
    "Seq sınıfı ile temsil edilir. Seq sınıfı \"Bio.Seq\" modülünde tanımlanır."
   ]
  },
  {
   "cell_type": "code",
   "execution_count": 105,
   "metadata": {},
   "outputs": [
    {
     "name": "stdout",
     "output_type": "stream",
     "text": [
      "AGCT\n"
     ]
    },
    {
     "data": {
      "text/plain": [
       "Seq('AGCT')"
      ]
     },
     "execution_count": 105,
     "metadata": {},
     "output_type": "execute_result"
    }
   ],
   "source": [
    "from Bio.Seq import Seq\n",
    "seq = Seq(\"AGCT\")\n",
    "print(seq)\n",
    "seq"
   ]
  },
  {
   "attachments": {},
   "cell_type": "markdown",
   "metadata": {},
   "source": [
    "## Alphabet Module\n",
    "\n",
    "• Seq nesneleri, sıra tipini, harfleri ve olası işlemleri belirtmek için Alphabet özniteliği içerir.  \n",
    "• \"Bio.Alphabet\" modülünde tanımlanır."
   ]
  },
  {
   "cell_type": "code",
   "execution_count": 106,
   "metadata": {},
   "outputs": [
    {
     "data": {
      "text/plain": [
       "Alphabet()"
      ]
     },
     "execution_count": 106,
     "metadata": {},
     "output_type": "execute_result"
    }
   ],
   "source": [
    "from Bio.Seq import Seq\n",
    "myseq = Seq(\"AGCT\")\n",
    "myseq.alphabet"
   ]
  },
  {
   "attachments": {},
   "cell_type": "markdown",
   "metadata": {},
   "source": [
    "---"
   ]
  },
  {
   "attachments": {},
   "cell_type": "markdown",
   "metadata": {},
   "source": [
    "• Alphabet modülü, farklı dizi türlerini temsil etmek için aşağıdaki sınıfları sağlar.\n",
    "\n",
    "• Alphabet() -> Tüm alfabe türleri için temel sınıftır.  \n",
    "• SingleLetterAlphabet() -> Bir boyuttaki harflerden oluşan genel alfabedir. Alphabet ten türemiştir ve diğer tüm alfabe türleri ondan türemiştir."
   ]
  },
  {
   "cell_type": "code",
   "execution_count": 107,
   "metadata": {},
   "outputs": [
    {
     "data": {
      "text/plain": [
       "Seq('AGTACACTGGT', SingleLetterAlphabet())"
      ]
     },
     "execution_count": 107,
     "metadata": {},
     "output_type": "execute_result"
    }
   ],
   "source": [
    "from Bio.Seq import Seq\n",
    "from Bio.Alphabet import single_letter_alphabet\n",
    "\n",
    "test_seq = Seq('AGTACACTGGT', single_letter_alphabet)\n",
    "test_seq"
   ]
  },
  {
   "attachments": {},
   "cell_type": "markdown",
   "metadata": {},
   "source": [
    "• ProteinAlphabet() -> Genel tek harfli protein alfabesidir."
   ]
  },
  {
   "cell_type": "code",
   "execution_count": 108,
   "metadata": {},
   "outputs": [
    {
     "data": {
      "text/plain": [
       "Seq('AGTACACTGGT', ProteinAlphabet())"
      ]
     },
     "execution_count": 108,
     "metadata": {},
     "output_type": "execute_result"
    }
   ],
   "source": [
    "from Bio.Seq import Seq\n",
    "from Bio.Alphabet import generic_protein\n",
    "\n",
    "test_seq = Seq('AGTACACTGGT', generic_protein)\n",
    "test_seq"
   ]
  },
  {
   "attachments": {},
   "cell_type": "markdown",
   "metadata": {},
   "source": [
    "• NucleotideAlphabet() -> Genel tek harfli nükleotit alfabesidir."
   ]
  },
  {
   "attachments": {},
   "cell_type": "markdown",
   "metadata": {},
   "source": [
    "• Ayrıca Biopython, Bio.Data modülü aracılığıyla tüm biyoinformatik ile ilgili yapılandırma\n",
    "verilerini ortaya çıkarır. Örneğin, IUPACData.protein_letters, IUPACProtein alfabesinin\n",
    "olası harflerini içerir."
   ]
  },
  {
   "cell_type": "code",
   "execution_count": 109,
   "metadata": {},
   "outputs": [
    {
     "data": {
      "text/plain": [
       "'ACDEFGHIKLMNPQRSTVWY'"
      ]
     },
     "execution_count": 109,
     "metadata": {},
     "output_type": "execute_result"
    }
   ],
   "source": [
    "from Bio.Data import IUPACData\n",
    "IUPACData.protein_letters"
   ]
  },
  {
   "attachments": {},
   "cell_type": "markdown",
   "metadata": {},
   "source": [
    "## Basic Operations"
   ]
  },
  {
   "cell_type": "code",
   "execution_count": 110,
   "metadata": {},
   "outputs": [
    {
     "data": {
      "text/plain": [
       "'A'"
      ]
     },
     "execution_count": 110,
     "metadata": {},
     "output_type": "execute_result"
    }
   ],
   "source": [
    "seq_string = Seq('AGCTAGCT')\n",
    "seq_string[0]"
   ]
  },
  {
   "cell_type": "code",
   "execution_count": 111,
   "metadata": {},
   "outputs": [
    {
     "data": {
      "text/plain": [
       "Seq('AG')"
      ]
     },
     "execution_count": 111,
     "metadata": {},
     "output_type": "execute_result"
    }
   ],
   "source": [
    "seq_string = Seq('AGCTAGCT')\n",
    "seq_string[0:2]"
   ]
  },
  {
   "cell_type": "code",
   "execution_count": 112,
   "metadata": {},
   "outputs": [
    {
     "data": {
      "text/plain": [
       "Seq('AGCTAGCT')"
      ]
     },
     "execution_count": 112,
     "metadata": {},
     "output_type": "execute_result"
    }
   ],
   "source": [
    "seq_string = Seq('AGCTAGCT')\n",
    "seq_string[ : ]"
   ]
  },
  {
   "cell_type": "code",
   "execution_count": 113,
   "metadata": {},
   "outputs": [
    {
     "data": {
      "text/plain": [
       "8"
      ]
     },
     "execution_count": 113,
     "metadata": {},
     "output_type": "execute_result"
    }
   ],
   "source": [
    "seq_string = Seq('AGCTAGCT')\n",
    "len(seq_string)"
   ]
  },
  {
   "cell_type": "code",
   "execution_count": 114,
   "metadata": {},
   "outputs": [
    {
     "data": {
      "text/plain": [
       "2"
      ]
     },
     "execution_count": 114,
     "metadata": {},
     "output_type": "execute_result"
    }
   ],
   "source": [
    "seq_string = Seq('AGCTAGCT')\n",
    "seq_string.count('A')"
   ]
  },
  {
   "cell_type": "code",
   "execution_count": 115,
   "metadata": {},
   "outputs": [
    {
     "data": {
      "text/plain": [
       "Seq('AGCTTCGA', DNAAlphabet())"
      ]
     },
     "execution_count": 115,
     "metadata": {},
     "output_type": "execute_result"
    }
   ],
   "source": [
    "from Bio.Alphabet import generic_dna, generic_protein\n",
    "seq1 = Seq('AGCT', generic_dna)\n",
    "seq2 = Seq('TCGA', generic_dna)\n",
    "seq1 + seq2"
   ]
  },
  {
   "attachments": {},
   "cell_type": "markdown",
   "metadata": {},
   "source": [
    "• Yukarıdaki iki sekans nesnesi seq1 ve seq2 genel DNA dizileridir. Bunları birbirine ekleyebilir ve yeni dizi oluşturabilirsiniz.  \n",
    "\n",
    "• Aşağıda belirtildiği gibi, protein dizisi ve DNA dizisi gibi uyumsuz alfabelere sahip diziler ekleyemezsiniz."
   ]
  },
  {
   "cell_type": "code",
   "execution_count": 116,
   "metadata": {},
   "outputs": [
    {
     "ename": "TypeError",
     "evalue": "Incompatible alphabets DNAAlphabet() and ProteinAlphabet()",
     "output_type": "error",
     "traceback": [
      "\u001b[1;31m---------------------------------------------------------------------------\u001b[0m",
      "\u001b[1;31mTypeError\u001b[0m                                 Traceback (most recent call last)",
      "\u001b[1;32m<ipython-input-116-17891d2877ba>\u001b[0m in \u001b[0;36m<module>\u001b[1;34m\u001b[0m\n\u001b[0;32m      1\u001b[0m \u001b[0mdna_seq\u001b[0m \u001b[1;33m=\u001b[0m \u001b[0mSeq\u001b[0m\u001b[1;33m(\u001b[0m\u001b[1;34m'AGTACACTGGT'\u001b[0m\u001b[1;33m,\u001b[0m \u001b[0mgeneric_dna\u001b[0m\u001b[1;33m)\u001b[0m\u001b[1;33m\u001b[0m\u001b[0m\n\u001b[0;32m      2\u001b[0m \u001b[0mprotein_seq\u001b[0m \u001b[1;33m=\u001b[0m \u001b[0mSeq\u001b[0m\u001b[1;33m(\u001b[0m\u001b[1;34m'AGUACACUGGU'\u001b[0m\u001b[1;33m,\u001b[0m \u001b[0mgeneric_protein\u001b[0m\u001b[1;33m)\u001b[0m\u001b[1;33m\u001b[0m\u001b[0m\n\u001b[1;32m----> 3\u001b[1;33m \u001b[0mdna_seq\u001b[0m \u001b[1;33m+\u001b[0m \u001b[0mprotein_seq\u001b[0m\u001b[1;33m\u001b[0m\u001b[0m\n\u001b[0m",
      "\u001b[1;32mc:\\Users\\Furkan\\AppData\\Local\\Programs\\Python\\Python36\\lib\\site-packages\\Bio\\Seq.py\u001b[0m in \u001b[0;36m__add__\u001b[1;34m(self, other)\u001b[0m\n\u001b[0;32m    335\u001b[0m             \u001b[1;32mif\u001b[0m \u001b[1;32mnot\u001b[0m \u001b[0mAlphabet\u001b[0m\u001b[1;33m.\u001b[0m\u001b[0m_check_type_compatible\u001b[0m\u001b[1;33m(\u001b[0m\u001b[1;33m[\u001b[0m\u001b[0mself\u001b[0m\u001b[1;33m.\u001b[0m\u001b[0malphabet\u001b[0m\u001b[1;33m,\u001b[0m \u001b[0mother\u001b[0m\u001b[1;33m.\u001b[0m\u001b[0malphabet\u001b[0m\u001b[1;33m]\u001b[0m\u001b[1;33m)\u001b[0m\u001b[1;33m:\u001b[0m\u001b[1;33m\u001b[0m\u001b[0m\n\u001b[0;32m    336\u001b[0m                 raise TypeError(\n\u001b[1;32m--> 337\u001b[1;33m                     \u001b[1;34mf\"Incompatible alphabets {self.alphabet!r} and {other.alphabet!r}\"\u001b[0m\u001b[1;33m\u001b[0m\u001b[0m\n\u001b[0m\u001b[0;32m    338\u001b[0m                 )\n\u001b[0;32m    339\u001b[0m             \u001b[1;31m# They should be the same sequence type (or one of them is generic)\u001b[0m\u001b[1;33m\u001b[0m\u001b[1;33m\u001b[0m\u001b[0m\n",
      "\u001b[1;31mTypeError\u001b[0m: Incompatible alphabets DNAAlphabet() and ProteinAlphabet()"
     ]
    }
   ],
   "source": [
    "dna_seq = Seq('AGTACACTGGT', generic_dna)\n",
    "protein_seq = Seq('AGUACACUGGU', generic_protein)\n",
    "dna_seq + protein_seq"
   ]
  },
  {
   "attachments": {},
   "cell_type": "markdown",
   "metadata": {},
   "source": [
    "---"
   ]
  },
  {
   "attachments": {},
   "cell_type": "markdown",
   "metadata": {},
   "source": [
    "• İki veya daha fazla sekans eklemek için önce bir python listesinde saklayıp, ardından 'for loop' kullanarak\n",
    "alınıp daha sonra aşağıda gösterildiği gibi birlikte eklenir:"
   ]
  },
  {
   "cell_type": "code",
   "execution_count": null,
   "metadata": {},
   "outputs": [
    {
     "name": "stdout",
     "output_type": "stream",
     "text": [
      "AGCT\n",
      "TCGA\n",
      "AAA\n"
     ]
    },
    {
     "data": {
      "text/plain": [
       "Seq(' AGCTTCGAAAA', DNAAlphabet())"
      ]
     },
     "execution_count": 79,
     "metadata": {},
     "output_type": "execute_result"
    }
   ],
   "source": [
    "from Bio.Alphabet import generic_dna\n",
    "list = [Seq('AGCT',generic_dna),Seq('TCGA',generic_dna),Seq('AAA',generic_dna)]\n",
    "\n",
    "for s in list:\n",
    "    print(s)\n",
    "final_seq = Seq(' ', generic_dna)\n",
    "\n",
    "for s in list:\n",
    "    final_seq += s\n",
    "final_seq"
   ]
  },
  {
   "attachments": {},
   "cell_type": "markdown",
   "metadata": {},
   "source": [
    "---"
   ]
  },
  {
   "attachments": {},
   "cell_type": "markdown",
   "metadata": {},
   "source": [
    "• upper() - Küçük harfli sekansları, büyük harfe dönüştürmek için kullanılır."
   ]
  },
  {
   "cell_type": "code",
   "execution_count": null,
   "metadata": {},
   "outputs": [
    {
     "data": {
      "text/plain": [
       "Seq('AGCT', RNAAlphabet())"
      ]
     },
     "execution_count": 80,
     "metadata": {},
     "output_type": "execute_result"
    }
   ],
   "source": [
    "from Bio.Alphabet import generic_rna\n",
    "rna = Seq('agct', generic_rna)\n",
    "rna.upper()"
   ]
  },
  {
   "attachments": {},
   "cell_type": "markdown",
   "metadata": {},
   "source": [
    "---"
   ]
  },
  {
   "attachments": {},
   "cell_type": "markdown",
   "metadata": {},
   "source": [
    "• Sekanslar büyük küçük harf duyarlıdır."
   ]
  },
  {
   "cell_type": "code",
   "execution_count": null,
   "metadata": {},
   "outputs": [
    {
     "name": "stdout",
     "output_type": "stream",
     "text": [
      "'a' in rna: True\n",
      "'A' in rna: False\n",
      "rna is rna1: False\n"
     ]
    }
   ],
   "source": [
    "rna = Seq('agct', generic_dna)\n",
    "print(\"'a' in rna:\",'a' in rna)\n",
    "print(\"'A' in rna:\",'A' in rna)\n",
    "rna1 = Seq('AGCT',generic_dna)\n",
    "print(\"rna is rna1:\",rna is rna1)"
   ]
  },
  {
   "attachments": {},
   "cell_type": "markdown",
   "metadata": {},
   "source": [
    "---"
   ]
  },
  {
   "attachments": {},
   "cell_type": "markdown",
   "metadata": {},
   "source": [
    "• find() - Verilen sekans içinde tek harf veya harf dizisininin ilk bulunduğu indisi gösterir."
   ]
  },
  {
   "cell_type": "code",
   "execution_count": null,
   "metadata": {},
   "outputs": [
    {
     "name": "stdout",
     "output_type": "stream",
     "text": [
      "1\n",
      "8\n"
     ]
    }
   ],
   "source": [
    "protein_seq = Seq('AGUACACUGGU', generic_protein)\n",
    "print(protein_seq.find('G'))\n",
    "print(protein_seq.find('GG'))"
   ]
  },
  {
   "attachments": {},
   "cell_type": "markdown",
   "metadata": {},
   "source": [
    "---"
   ]
  },
  {
   "attachments": {},
   "cell_type": "markdown",
   "metadata": {},
   "source": [
    "• split() - Bölme işlemi için kullanılır."
   ]
  },
  {
   "cell_type": "code",
   "execution_count": null,
   "metadata": {},
   "outputs": [
    {
     "data": {
      "text/plain": [
       "[Seq('', ProteinAlphabet()),\n",
       " Seq('GU', ProteinAlphabet()),\n",
       " Seq('C', ProteinAlphabet()),\n",
       " Seq('CUGGU', ProteinAlphabet())]"
      ]
     },
     "execution_count": 85,
     "metadata": {},
     "output_type": "execute_result"
    }
   ],
   "source": [
    "protein_seq = Seq('AGUACACUGGU',generic_protein)\n",
    "protein_seq.split('A')"
   ]
  },
  {
   "attachments": {},
   "cell_type": "markdown",
   "metadata": {},
   "source": [
    "---"
   ]
  },
  {
   "attachments": {},
   "cell_type": "markdown",
   "metadata": {},
   "source": [
    "• strip() - Sekans dizisinin baş ve sondaki boşluk karakterlerini silmek için kullanılır."
   ]
  },
  {
   "cell_type": "code",
   "execution_count": null,
   "metadata": {},
   "outputs": [
    {
     "data": {
      "text/plain": [
       "Seq('    AGCT    ')"
      ]
     },
     "execution_count": 101,
     "metadata": {},
     "output_type": "execute_result"
    }
   ],
   "source": [
    "strip_seq = Seq(\"    AGCT    \")\n",
    "strip_seq"
   ]
  },
  {
   "cell_type": "code",
   "execution_count": null,
   "metadata": {},
   "outputs": [
    {
     "data": {
      "text/plain": [
       "Seq('AGCT')"
      ]
     },
     "execution_count": 103,
     "metadata": {},
     "output_type": "execute_result"
    }
   ],
   "source": [
    "strip_seq = Seq(\"    AGCT    \")\n",
    "strip_seq.strip()"
   ]
  }
 ],
 "metadata": {
  "kernelspec": {
   "display_name": "Python 3",
   "language": "python",
   "name": "python3"
  },
  "language_info": {
   "codemirror_mode": {
    "name": "ipython",
    "version": 3
   },
   "file_extension": ".py",
   "mimetype": "text/x-python",
   "name": "python",
   "nbconvert_exporter": "python",
   "pygments_lexer": "ipython3",
   "version": "3.6.5"
  },
  "orig_nbformat": 4
 },
 "nbformat": 4,
 "nbformat_minor": 2
}
